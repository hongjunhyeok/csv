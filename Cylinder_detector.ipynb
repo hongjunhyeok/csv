{
 "cells": [
  {
   "cell_type": "markdown",
   "source": [
    "# 클래스 선언"
   ],
   "metadata": {
    "collapsed": false
   }
  },
  {
   "cell_type": "code",
   "execution_count": 114,
   "metadata": {
    "collapsed": true
   },
   "outputs": [],
   "source": [
    "# backup\n",
    "import pandas as pd\n",
    "import matplotlib.pyplot as plt\n",
    "import numpy as np\n",
    "import os\n",
    "from collections import deque\n",
    "font_path = \"C:\\Windows\\Fonts\\LG_Smart_UI-Light.ttf\"\n",
    "\n",
    "from matplotlib import font_manager, rc\n",
    "\n",
    "font = font_manager.FontProperties(fname = font_path).get_name()\n",
    "rc('font', family = font)\n",
    "\n",
    "# ## input에 대한 실린더 고장 클래스\n",
    "# ## input_data(csv) 가 모여있는 디렉토리 입력.\n",
    "\n",
    "\n",
    "## 실린더 정보 저장용\n",
    "class CYLINDER():\n",
    "    def __init__(self, is_abnormal = None, value_data = None, max_limit = None, min_limit = None, count = None):\n",
    "        self.stat = is_abnormal     # 이상유무 1 = 이상, 0 = 정상 , [1, 0, 1, 0, 1] --> 0, 2, 4 번째 실린더 이상\n",
    "        self.value = value_data     # 각 실린더마다 데이터\n",
    "        self.max_limit = max_limit  # 각 실린더마다 상한선 변동값\n",
    "        self.min_limit = min_limit  # 각 실린더마다 하한성 변동값\n",
    "        self.count = count          # 넘어간 횟수\n",
    "\n",
    "    # 요약정보 가져오기 위해\n",
    "    def get(self, index):\n",
    "        return [self.stat[index], self.value, self.max_limit, self.min_limit, self.count]\n",
    "\n",
    "class CYL_DETECTOR():\n",
    "\n",
    "\n",
    "    ## 초기세팅, 데이터 입력 부분\n",
    "    def __init__(self, file_path):\n",
    "\n",
    "        self.csv_path = file_path\n",
    "\n",
    "\n",
    "\n",
    "    ## 동작시키는 함수 ##\n",
    "    def run(self):\n",
    "\n",
    "        print(f' 실린더 파일 읽는 중 ... ' , end='\\r', flush=True)\n",
    "        self.df = self.data_preprocess()\n",
    "\n",
    "        print(f' 실린더 파일 읽는 중 ... 완료  ', end = \"\\n \", flush=True)\n",
    "        self.cylinder_info_std = self.cylinder_analysis_std(self.df)\n",
    "        self.cylinder_info_crest = self.cylinder_analysis_crest(self.df)\n",
    "        self.result = []\n",
    "\n",
    "        ####\n",
    "\n",
    "        # std와 crest 겹치는 인덱스 찾는 부분\n",
    "\n",
    "        ####\n",
    "\n",
    "\n",
    "    # 전처리 필요하면 여기 ~~~~~~~~~\n",
    "    def data_preprocess(self):\n",
    "        original = pd.read_csv(self.csv_path, encoding='CP949') # 시간 포함\n",
    "        copy_df = pd.DataFrame(np.copy(original),columns = original.columns)    # 시간 필터링\n",
    "        copy_df = copy_df.iloc[:, 1:]\n",
    "        self.df_columns = copy_df.columns\n",
    "\n",
    "\n",
    "\n",
    "        del(original)\n",
    "        return copy_df\n",
    "\n",
    "    #############  알고리즘 - 1\n",
    "\n",
    "\n",
    "    ############################################# 한계선 ############################################\n",
    "    def determine_limit(self, data, sigma, weight):\n",
    "        std, mean = np.std(data), np.mean(data)\n",
    "\n",
    "        if std * sigma >= 0.1:\n",
    "            upper_line = (mean + std * sigma) * (1 + weight)\n",
    "            lower_line = (mean - std * sigma) * (1 - weight)\n",
    "        else:\n",
    "            upper_line = (mean + 0.1) * (1 + weight)\n",
    "            lower_line = (mean - 0.1) * (1 - weight)\n",
    "\n",
    "        if lower_line < 0 : lower_line = 0\n",
    "\n",
    "        return upper_line, lower_line, std, mean\n",
    "    #################################################################################################\n",
    "\n",
    "\n",
    "    def cylinder_analysis_std(self, cyl_dataframe):\n",
    "\n",
    "        ######## 리턴용 변수 생성 ########\n",
    "        type, value, max, min, cnt = [], [], [], [], []\n",
    "        self.sigma, self.weight, self.limit = 3, 0.01, 100\n",
    "        ##############################\n",
    "\n",
    "        # 1. Input 데이터를 입력받는다.\n",
    "        cyl_size = len(cyl_dataframe.columns)\n",
    "        data_size = len(cyl_dataframe)\n",
    "\n",
    "\n",
    "        ## 탐색 (전체 실린더)\n",
    "        for cyl_i in range(cyl_size):\n",
    "            ###### 전체 변수 & 초기화 ####\n",
    "            is_abnormal, count, repeat_counter = 0, 0, 0\n",
    "            upper_limit, lower_limit = [], []\n",
    "            upper_line, lower_line = 0, 0\n",
    "            std, mean = 0, 0\n",
    "            is_collected = False\n",
    "\n",
    "\n",
    "            data_box = deque()\n",
    "            cylinder_data = cyl_dataframe.iloc[:, cyl_i]\n",
    "            ############################\n",
    "\n",
    "            ## 탐색 (개별 실린더)\n",
    "            for idx, data in enumerate(cylinder_data):\n",
    "\n",
    "                # 데이터 수집안됐으면 추가하고 다음으로\n",
    "                if not is_collected:\n",
    "                    if len(data_box) < int(data_size/ 10):\n",
    "                        data_box.append(data)\n",
    "                        upper_limit.append(None)\n",
    "                        lower_limit.append(None)\n",
    "\n",
    "                        continue\n",
    "\n",
    "                    # 수집했으면 std, mean 라인 스타트\n",
    "                    if len(data_box) == int(data_size/ 10):\n",
    "\n",
    "                        upper_line, lower_line, std, mean = self.determine_limit(data_box, self.sigma, self.weight)\n",
    "                        # std = (np.std(data_box))\n",
    "                        # mean = (np.mean(data_box))\n",
    "                        # 한계선 업데이트\n",
    "                        # upper_line = (mean + std * self.sigma) * (1 + self.weight)\n",
    "                        # lower_line = (mean - std * self.sigma) * (1 - self.weight)\n",
    "\n",
    "                        is_collected = True\n",
    "\n",
    "\n",
    "\n",
    "\n",
    "                ####################### 이어서 할거 if  다음 어떻게 넘어갈지 막힘 아마도 std, mean 구해서 상하한선 구하는것부터 시작할것~~\n",
    "\n",
    "                # data_box.append(data)\n",
    "                # data_box.popleft()\n",
    "\n",
    "\n",
    "                # if data == cylinder_data.iloc[idx-1]:\n",
    "                #     repeat_counter += 1\n",
    "                # else :\n",
    "                #     repeat_counter = 0\n",
    "                #\n",
    "                # if repeat_counter > 1000:\n",
    "                #     std = float(np.std(cylinder_data[idx - 1000: idx]))\n",
    "                #     mean = float(np.mean(cylinder_data[idx - 1000: idx]))\n",
    "                #     upper_line = (mean + std * sigma) * (1 + weight)\n",
    "                #     lower_line = (mean - std * sigma) * (1 - weight)\n",
    "                #     repeat_counter = 0\n",
    "\n",
    "\n",
    "                ## std, mean 계산하기까지 데이터 모음\n",
    "                if idx % int(data_size/10) == 0:\n",
    "\n",
    "                    std = float(np.std(cylinder_data[idx - int(data_size/10): idx]))\n",
    "                    mean = float(np.mean(cylinder_data[idx - int(data_size/10): idx]))\n",
    "\n",
    "                    # weight *= 0.9\n",
    "                    if std > mean * 0.01:\n",
    "                        continue\n",
    "\n",
    "                    # 한계선 업데이트\n",
    "                    if std * self.sigma >= 0.1:\n",
    "                        upper_line = (mean + std * self.sigma) * (1 + self.weight)\n",
    "                        lower_line = (mean - std * self.sigma) * (1 - self.weight)\n",
    "                    else:\n",
    "                        upper_line = (mean + 0.1) * (1 + self.weight)\n",
    "                        lower_line = (mean - 0.1) * (1 - self.weight)\n",
    "\n",
    "\n",
    "\n",
    "                if data != 0 and (data > upper_line or data < lower_line):\n",
    "                    count += 1\n",
    "\n",
    "                    # test\n",
    "                    # 한계선 업데이트\n",
    "                    std = float(np.std(cylinder_data[idx - int(cyl_size/10): idx]))\n",
    "                    mean = float(np.mean(cylinder_data[idx - int(cyl_size/10): idx]))\n",
    "\n",
    "                    if std * self.sigma >= 0.1:\n",
    "                        upper_line = (mean + std * self.sigma) * (1 + weight)\n",
    "                        lower_line = (mean - std * self.sigma) * (1 - weight)\n",
    "                    else:\n",
    "                        upper_line = (mean + 0.1) * (1 + weight)\n",
    "                        lower_line = (mean - 0.1) * (1 - weight)\n",
    "\n",
    "                    if lower_line < 0 : lower_line = 0\n",
    "\n",
    "\n",
    "                upper_limit.append(upper_line)\n",
    "                lower_limit.append(lower_line)\n",
    "\n",
    "\n",
    "            if count > 200:\n",
    "                is_abnormal = 1\n",
    "\n",
    "\n",
    "            # print(f' 실린더 분석 중 : {cyl_i + 1}/{cyl_size} 완료',end =\"\\r\", flush =True)\n",
    "            print(f' 실린더 분석 중 : {int(( (cyl_i+1) /cyl_size)*100)}% ( {cyl_i +1} / {cyl_size} )' , end='\\r', flush=True)\n",
    "\n",
    "            if is_abnormal:\n",
    "                type.append(is_abnormal)\n",
    "                value.append(cylinder_data)\n",
    "                max.append(upper_limit)\n",
    "                min.append(lower_limit)\n",
    "                cnt.append(count)\n",
    "\n",
    "            else:\n",
    "                type.append(is_abnormal)\n",
    "                value.append(cylinder_data)\n",
    "                max.append(upper_limit)\n",
    "                min.append(lower_limit)\n",
    "                cnt.append(count)\n",
    "\n",
    "        # cylinder 정보 저장\n",
    "        cylinder = CYLINDER(is_abnormal = type, value_data = value, max_limit = max, min_limit = min, count = count)\n",
    "        print(f' 실린더 분석 완료 : {int(( (cyl_i+1) /cyl_size)*100)}% ( {cyl_i +1} / {cyl_size} )' , end='\\r', flush=True)\n",
    "\n",
    "        # 반환\n",
    "\n",
    "        return cylinder\n",
    "\n",
    "    ##############  알고리즘 - 2\n",
    "\n",
    "    def cylinder_analysis_crest(self, cyl_dataframe):\n",
    "        pass\n",
    "\n",
    "\n",
    "\n",
    "    # Test 용.\n",
    "    def print(self):\n",
    "        pass\n",
    "\n",
    "\n",
    "\n"
   ]
  },
  {
   "cell_type": "markdown",
   "source": [
    "## cylinder 끼리 비교 코드"
   ],
   "metadata": {
    "collapsed": false
   }
  },
  {
   "cell_type": "code",
   "execution_count": 73,
   "outputs": [
    {
     "name": "stdout",
     "output_type": "stream",
     "text": [
      "1\n",
      "3\n",
      "5\n"
     ]
    },
    {
     "data": {
      "text/plain": "[<matplotlib.lines.Line2D at 0x1d740e0f1c0>]"
     },
     "execution_count": 73,
     "metadata": {},
     "output_type": "execute_result"
    },
    {
     "data": {
      "text/plain": "<Figure size 432x288 with 1 Axes>",
      "image/png": "[encoded data removed]"
     },
     "metadata": {
      "needs_background": "light"
     },
     "output_type": "display_data"
    }
   ],
   "source": [
    "a = [1,0,1,0,1]\n",
    "b = [1,1,1,1,1]\n",
    "cylinder = CYLINDER(is_abnormal=a, value_data=[1,2,3,4,5], max_limit=[4,4,4,4,4], min_limit = [2,3,2,3,2], count= 2)\n",
    "cylinder2 = CYLINDER(is_abnormal=b)\n",
    "\n",
    "list = cylinder.stat\n",
    "list2 = cylinder2.stat\n",
    "for i, d in enumerate(cylinder.stat):\n",
    "    if d in cylinder2.stat:\n",
    "        print(i+1)\n",
    "\n",
    "type, value, max, min, count = cylinder.get(1)\n",
    "\n",
    "plt.plot(value)\n",
    "plt.plot(max)\n",
    "plt.plot(min)\n"
   ],
   "metadata": {
    "collapsed": false,
    "pycharm": {
     "name": "#%%\n"
    }
   }
  },
  {
   "cell_type": "markdown",
   "source": [
    "# 최종 클래스 동작"
   ],
   "metadata": {
    "collapsed": false
   }
  },
  {
   "cell_type": "code",
   "execution_count": 35,
   "outputs": [],
   "source": [],
   "metadata": {
    "collapsed": false,
    "pycharm": {
     "name": "#%%\n"
    }
   }
  },
  {
   "cell_type": "code",
   "execution_count": 108,
   "outputs": [
    {
     "name": "stdout",
     "output_type": "stream",
     "text": [
      " 실린더 파일 읽는 중 ... 완료  \n",
      " 실린더 분석 완료 : 100% ( 331 / 331 )\r"
     ]
    }
   ],
   "source": [
    "os.getcwd()\n",
    "\n",
    "\n",
    "\n",
    "detector = CYL_DETECTOR('data/PKG4/2109/20210913.csv')\n",
    "# detector.data_preprocess()\n",
    "detector.run()\n",
    "\n",
    "# detector.original.columns"
   ],
   "metadata": {
    "collapsed": false,
    "pycharm": {
     "name": "#%%\n"
    }
   }
  },
  {
   "cell_type": "markdown",
   "source": [
    "### 테스트용 코드"
   ],
   "metadata": {
    "collapsed": false
   }
  },
  {
   "cell_type": "code",
   "execution_count": 113,
   "outputs": [
    {
     "data": {
      "text/plain": "<Figure size 3600x2160 with 0 Axes>"
     },
     "metadata": {},
     "output_type": "display_data"
    }
   ],
   "source": [
    "# detector.cylinder_info_std.value[0]\n",
    "\n",
    "plt.figure(figsize=(50,30))\n",
    "b=0\n",
    "c=0\n",
    "for i in range(0,331):\n",
    "\n",
    "    if   detector.cylinder_info_std.stat[i]:\n",
    "        b+=1\n",
    "        plt.subplot(4,4,b)\n",
    "\n",
    "        # plt.title(f'{detector.df_columns[c]} , {detector.cylinder_info_std.count[i]}')\n",
    "        # plt.title(detector.df_columns[b])\n",
    "        plt.plot(detector.cylinder_info_std.value[i])\n",
    "        plt.plot(detector.cylinder_info_std.max_limit[i], c = 'r')\n",
    "        plt.plot(detector.cylinder_info_std.min_limit[i], c = 'b')\n",
    "    c+=1"
   ],
   "metadata": {
    "collapsed": false,
    "pycharm": {
     "name": "#%%\n"
    }
   }
  },
  {
   "cell_type": "code",
   "execution_count": 112,
   "outputs": [
    {
     "name": "stdout",
     "output_type": "stream",
     "text": [
      "0\n"
     ]
    }
   ],
   "source": [
    "b=0\n",
    "c=0\n",
    "for i in detector.cylinder_info_std.stat:\n",
    "    c+=1\n",
    "    if i :\n",
    "        b+=1\n",
    "        print(c)\n",
    "print(b)\n",
    "# detector.cylinder_info_std.value[0]"
   ],
   "metadata": {
    "collapsed": false,
    "pycharm": {
     "name": "#%%\n"
    }
   }
  },
  {
   "cell_type": "markdown",
   "source": [
    "backup"
   ],
   "metadata": {
    "collapsed": false
   }
  },
  {
   "cell_type": "code",
   "execution_count": 243,
   "outputs": [],
   "source": [
    "# # backup\n",
    "# import pandas as pd\n",
    "# import matplotlib.pyplot as plt\n",
    "# import numpy as np\n",
    "# import os\n",
    "# from collections import deque\n",
    "#\n",
    "#\n",
    "# # ## input에 대한 실린더 고장 클래스\n",
    "# # ## input_data(csv) 가 모여있는 디렉토리 입력.\n",
    "#\n",
    "#\n",
    "# ## 실린더 정보 저장용\n",
    "# class CYLINDER():\n",
    "#     def __init__(self, is_abnormal = None, value_data = None, max_limit = None, min_limit = None, count = None):\n",
    "#         self.stat = is_abnormal     # 이상유무 1 = 이상, 0 = 정상 , [1, 0, 1, 0, 1] --> 0, 2, 4 번째 실린더 이상\n",
    "#         self.value = value_data     # 각 실린더마다 데이터\n",
    "#         self.max_limit = max_limit  # 각 실린더마다 상한선 변동값\n",
    "#         self.min_limit = min_limit  # 각 실린더마다 하한성 변동값\n",
    "#         self.count = count          # 넘어간 횟수\n",
    "#\n",
    "#     # 요약정보 가져오기 위해\n",
    "#     def get(self, index):\n",
    "#         return [self.stat[index], self.value, self.max_limit, self.min_limit, self.count]\n",
    "#\n",
    "# class CYL_DETECTOR():\n",
    "#\n",
    "#\n",
    "#     ## 초기세팅, 데이터 입력 부분\n",
    "#     def __init__(self, file_path):\n",
    "#\n",
    "#         self.csv_path = file_path\n",
    "#\n",
    "#\n",
    "#     ## 동작시키는 함수 ##\n",
    "#     def run(self):\n",
    "#         self.df = self.data_preprocess()\n",
    "#         self.cylinder_info_std = self.cylinder_analysis_std(self.df)\n",
    "#         self.cylinder_info_crest = self.cylinder_analysis_crest(self.df)\n",
    "#         self.result = []\n",
    "#\n",
    "#         ####\n",
    "#\n",
    "#         # std와 crest 겹치는 인덱스 찾는 부분\n",
    "#\n",
    "#         ####\n",
    "#\n",
    "#\n",
    "#     # 전처리 필요하면 여기 ~~~~~~~~~\n",
    "#     def data_preprocess(self):\n",
    "#\n",
    "#         original = pd.read_csv(self.csv_path, encoding='CP949') # 시간 포함\n",
    "#         copy_df = pd.DataFrame(np.copy(original),columns = original.columns)    # 시간 필터링\n",
    "#         copy_df = copy_df.iloc[:, 1:]\n",
    "#\n",
    "#\n",
    "#\n",
    "#         del(original)\n",
    "#         return copy_df\n",
    "#\n",
    "#     #############  알고리즘 - 1\n",
    "#\n",
    "#     def cylinder_analysis_std(self, cyl_dataframe):\n",
    "#\n",
    "#         ######## 리턴용 변수 생성 ########\n",
    "#         type, value, max, min, cnt = [], [], [], [], []\n",
    "#         sigma, weight, limit = 6, 0.5, 100\n",
    "#         ##############################\n",
    "#\n",
    "#         # 1. Input 데이터를 입력받는다.\n",
    "#         cyl_size = len(cyl_dataframe.columns)\n",
    "#         data_size = len(cyl_dataframe)\n",
    "#\n",
    "#\n",
    "#         ## 탐색 (전체 실린더)\n",
    "#         for cyl_i in range(cyl_size):\n",
    "#             ###### 전체 변수 & 초기화 ####\n",
    "#             is_abnormal, count = 0, 0\n",
    "#             upper_limit, lower_limit = [], []\n",
    "#             upper_line, lower_line = 0, 0\n",
    "#             std, mean = 0, 0\n",
    "#             is_collected = False\n",
    "#\n",
    "#\n",
    "#             data_box = deque()\n",
    "#             cylinder_data = cyl_dataframe.iloc[:, cyl_i]\n",
    "#             ############################\n",
    "#\n",
    "#             ## 탐색 (개별 실린더)\n",
    "#             for idx, data in enumerate(cylinder_data):\n",
    "#\n",
    "#                 # 데이터 수집안됐으면 추가하고 다음으로\n",
    "#                 if not is_collected:\n",
    "#                     if len(data_box) < int(data_size/ 10):\n",
    "#                         data_box.append(data)\n",
    "#                         upper_limit.append(0)\n",
    "#                         lower_limit.append(0)\n",
    "#\n",
    "#                         continue\n",
    "#\n",
    "#                     # 수집했으면 std, mean 구함.\n",
    "#                     if len(data_box) == int(data_size/ 10):\n",
    "#                         std = float(np.std(data_box))\n",
    "#                         mean = float(np.mean(data_box))\n",
    "#                         is_collected = True\n",
    "#\n",
    "#                         if std > mean * 0.01:\n",
    "#                             continue\n",
    "#                 ####################### 이어서 할거 if  다음 어떻게 넘어갈지 막힘 아마도 std, mean 구해서 상하한선 구하는것부터 시작할것~~\n",
    "#\n",
    "#                 # data_box.append(data)\n",
    "#                 # data_box.popleft()\n",
    "#\n",
    "#                 ## std, mean 계산하기까지 데이터 모음\n",
    "#                 if idx % int(data_size / 24 ) == 0:\n",
    "#                     std = float(np.std(cylinder_data[idx - 1000: idx]))\n",
    "#                     mean = float(np.mean(cylinder_data[idx - 1000: idx]))\n",
    "#\n",
    "#                     weight *= 0.9\n",
    "#\n",
    "#\n",
    "#                 upper_line = (mean + std * sigma) * (1 + weight)\n",
    "#                 lower_line = (mean - std * sigma) * (1 - weight)\n",
    "#\n",
    "#                 upper_limit.append(upper_line)\n",
    "#                 lower_limit.append(lower_line)\n",
    "#\n",
    "#                 if data > upper_line or data < lower_line:\n",
    "#                     count += 1\n",
    "#\n",
    "#             if count > 200:\n",
    "#                 is_abnormal = 1\n",
    "#\n",
    "#\n",
    "#             print(f' 실린더 분석 중 : {cyl_i + 1}/{cyl_size} 완료',end =\"\\r\", flush =True)\n",
    "#\n",
    "#             if is_abnormal:\n",
    "#                 type.append(is_abnormal)\n",
    "#                 value.append(cylinder_data)\n",
    "#                 max.append(upper_limit)\n",
    "#                 min.append(lower_limit)\n",
    "#                 cnt.append(count)\n",
    "#\n",
    "#             else:\n",
    "#                 type.append(is_abnormal)\n",
    "#                 value.append(None)\n",
    "#                 max.append(None)\n",
    "#                 min.append(None)\n",
    "#                 cnt.append(None)\n",
    "#\n",
    "#         # cylinder 정보 저장\n",
    "#         cylinder = CYLINDER(is_abnormal = type, value_data = value, max_limit = max, min_limit = min, count = count)\n",
    "#         # 반환\n",
    "#         return cylinder\n",
    "#\n",
    "#     ##############  알고리즘 - 2\n",
    "#\n",
    "#     def cylinder_analysis_crest(self, cyl_dataframe):\n",
    "#         pass\n",
    "#\n",
    "#\n",
    "#\n",
    "#     # Test 용.\n",
    "#     def print(self):\n",
    "#         pass\n",
    "#\n",
    "#\n",
    "#\n"
   ],
   "metadata": {
    "collapsed": false,
    "pycharm": {
     "name": "#%%\n"
    }
   }
  },
  {
   "cell_type": "code",
   "execution_count": 103,
   "outputs": [
    {
     "name": "stdout",
     "output_type": "stream",
     "text": [
      "      0\n",
      "0     1\n",
      "1     2\n",
      "2     3\n",
      "3     4\n",
      "4  <NA>\n",
      "5     6\n",
      "6     7\n",
      "7     8\n",
      "8     9\n",
      "9  <NA>\n"
     ]
    },
    {
     "data": {
      "text/plain": "    0\n0   1\n1   2\n2   3\n3   4\n4  10\n5   6\n6   7\n7   8\n8   9\n9  10",
      "text/html": "<div>\n<style scoped>\n    .dataframe tbody tr th:only-of-type {\n        vertical-align: middle;\n    }\n\n    .dataframe tbody tr th {\n        vertical-align: top;\n    }\n\n    .dataframe thead th {\n        text-align: right;\n    }\n</style>\n<table border=\"1\" class=\"dataframe\">\n  <thead>\n    <tr style=\"text-align: right;\">\n      <th></th>\n      <th>0</th>\n    </tr>\n  </thead>\n  <tbody>\n    <tr>\n      <th>0</th>\n      <td>1</td>\n    </tr>\n    <tr>\n      <th>1</th>\n      <td>2</td>\n    </tr>\n    <tr>\n      <th>2</th>\n      <td>3</td>\n    </tr>\n    <tr>\n      <th>3</th>\n      <td>4</td>\n    </tr>\n    <tr>\n      <th>4</th>\n      <td>10</td>\n    </tr>\n    <tr>\n      <th>5</th>\n      <td>6</td>\n    </tr>\n    <tr>\n      <th>6</th>\n      <td>7</td>\n    </tr>\n    <tr>\n      <th>7</th>\n      <td>8</td>\n    </tr>\n    <tr>\n      <th>8</th>\n      <td>9</td>\n    </tr>\n    <tr>\n      <th>9</th>\n      <td>10</td>\n    </tr>\n  </tbody>\n</table>\n</div>"
     },
     "execution_count": 103,
     "metadata": {},
     "output_type": "execute_result"
    }
   ],
   "source": [
    "\n",
    "\n"
   ],
   "metadata": {
    "collapsed": false,
    "pycharm": {
     "name": "#%%\n"
    }
   }
  },
  {
   "cell_type": "code",
   "execution_count": null,
   "outputs": [],
   "source": [],
   "metadata": {
    "collapsed": false,
    "pycharm": {
     "name": "#%%\n"
    }
   }
  },
  {
   "cell_type": "markdown",
   "source": [
    "전체 파일 도는 코드"
   ],
   "metadata": {
    "collapsed": false
   }
  },
  {
   "cell_type": "code",
   "execution_count": 372,
   "outputs": [
    {
     "name": "stdout",
     "output_type": "stream",
     "text": [
      " 실린더 분석 중 : 296/331 완료\r실린더 분석 중 : 2/331 완료 실린더 분석 중 : 4/331 완료 실린더 분석 중 : 6/331 완료 실린더 분석 중 : 8/331 완료 실린더 분석 중 : 10/331 완료 실린더 분석 중 : 12/331 완료 실린더 분석 중 : 14/331 완료 실린더 분석 중 : 16/331 완료 실린더 분석 중 : 18/331 완료 실린더 분석 중 : 20/331 완료 실린더 분석 중 : 22/331 완료 실린더 분석 중 : 24/331 완료 실린더 분석 중 : 26/331 완료 실린더 분석 중 : 28/331 완료 실린더 분석 중 : 30/331 완료 실린더 분석 중 : 32/331 완료 실린더 분석 중 : 34/331 완료 실린더 분석 중 : 36/331 완료 실린더 분석 중 : 38/331 완료 실린더 분석 중 : 40/331 완료 실린더 분석 중 : 42/331 완료 실린더 분석 중 : 44/331 완료 실린더 분석 중 : 46/331 완료 실린더 분석 중 : 48/331 완료 실린더 분석 중 : 50/331 완료 실린더 분석 중 : 53/331 완료 실린더 분석 중 : 55/331 완료 실린더 분석 중 : 57/331 완료 실린더 분석 중 : 59/331 완료 실린더 분석 중 : 61/331 완료 실린더 분석 중 : 63/331 완료 실린더 분석 중 : 65/331 완료 실린더 분석 중 : 67/331 완료 실린더 분석 중 : 69/331 완료 실린더 분석 중 : 71/331 완료 실린더 분석 중 : 73/331 완료 실린더 분석 중 : 75/331 완료 실린더 분석 중 : 77/331 완료 실린더 분석 중 : 79/331 완료 실린더 분석 중 : 81/331 완료 실린더 분석 중 : 83/331 완료 실린더 분석 중 : 85/331 완료 실린더 분석 중 : 87/331 완료 실린더 분석 중 : 90/331 완료 실린더 분석 중 : 92/331 완료 실린더 분석 중 : 94/331 완료 실린더 분석 중 : 96/331 완료 실린더 분석 중 : 98/331 완료 실린더 분석 중 : 100/331 완료 실린더 분석 중 : 102/331 완료 실린더 분석 중 : 104/331 완료 실린더 분석 중 : 106/331 완료 실린더 분석 중 : 108/331 완료 실린더 분석 중 : 110/331 완료 실린더 분석 중 : 112/331 완료 실린더 분석 중 : 114/331 완료 실린더 분석 중 : 116/331 완료 실린더 분석 중 : 118/331 완료 실린더 분석 중 : 120/331 완료 실린더 분석 중 : 122/331 완료 실린더 분석 중 : 124/331 완료 실린더 분석 중 : 126/331 완료 실린더 분석 중 : 128/331 완료 실린더 분석 중 : 130/331 완료 실린더 분석 중 : 132/331 완료 실린더 분석 중 : 134/331 완료 실린더 분석 중 : 136/331 완료 실린더 분석 중 : 138/331 완료 실린더 분석 중 : 140/331 완료 실린더 분석 중 : 142/331 완료 실린더 분석 중 : 144/331 완료 실린더 분석 중 : 146/331 완료 실린더 분석 중 : 148/331 완료 실린더 분석 중 : 150/331 완료 실린더 분석 중 : 152/331 완료 실린더 분석 중 : 155/331 완료 실린더 분석 중 : 157/331 완료 실린더 분석 중 : 159/331 완료 실린더 분석 중 : 161/331 완료 실린더 분석 중 : 163/331 완료 실린더 분석 중 : 165/331 완료 실린더 분석 중 : 167/331 완료 실린더 분석 중 : 169/331 완료 실린더 분석 중 : 171/331 완료 실린더 분석 중 : 173/331 완료 실린더 분석 중 : 175/331 완료 실린더 분석 중 : 178/331 완료 실린더 분석 중 : 180/331 완료 실린더 분석 중 : 182/331 완료 실린더 분석 중 : 184/331 완료 실린더 분석 중 : 186/331 완료 실린더 분석 중 : 188/331 완료 실린더 분석 중 : 190/331 완료 실린더 분석 중 : 192/331 완료 실린더 분석 중 : 194/331 완료 실린더 분석 중 : 196/331 완료 실린더 분석 중 : 198/331 완료 실린더 분석 중 : 200/331 완료 실린더 분석 중 : 202/331 완료 실린더 분석 중 : 204/331 완료 실린더 분석 중 : 206/331 완료 실린더 분석 중 : 208/331 완료 실린더 분석 중 : 210/331 완료 실린더 분석 중 : 212/331 완료 실린더 분석 중 : 214/331 완료 실린더 분석 중 : 216/331 완료 실린더 분석 중 : 218/331 완료 실린더 분석 중 : 220/331 완료 실린더 분석 중 : 222/331 완료 실린더 분석 중 : 224/331 완료 실린더 분석 중 : 226/331 완료 실린더 분석 중 : 229/331 완료 실린더 분석 중 : 231/331 완료 실린더 분석 중 : 233/331 완료 실린더 분석 중 : 235/331 완료 실린더 분석 중 : 237/331 완료 실린더 분석 중 : 239/331 완료 실린더 분석 중 : 241/331 완료 실린더 분석 중 : 243/331 완료 실린더 분석 중 : 245/331 완료 실린더 분석 중 : 247/331 완료 실린더 분석 중 : 249/331 완료 실린더 분석 중 : 251/331 완료 실린더 분석 중 : 253/331 완료 실린더 분석 중 : 255/331 완료 실린더 분석 중 : 257/331 완료 실린더 분석 중 : 259/331 완료 실린더 분석 중 : 261/331 완료 실린더 분석 중 : 263/331 완료 실린더 분석 중 : 265/331 완료 실린더 분석 중 : 267/331 완료 실린더 분석 중 : 269/331 완료 실린더 분석 중 : 271/331 완료 실린더 분석 중 : 273/331 완료 실린더 분석 중 : 275/331 완료 실린더 분석 중 : 277/331 완료 실린더 분석 중 : 279/331 완료 실린더 분석 중 : 281/331 완료 실린더 분석 중 : 283/331 완료 실린더 분석 중 : 285/331 완료 실린더 분석 중 : 287/331 완료 실린더 분석 중 : 289/331 완료 실린더 분석 중 : 291/331 완료 실린더 분석 중 : 293/331 완료 실린더 분석 중 : 295/331 완료 실린더 분석 중 : 297/331 완료\r"
     ]
    },
    {
     "ename": "KeyboardInterrupt",
     "evalue": "",
     "output_type": "error",
     "traceback": [
      "\u001B[1;31m---------------------------------------------------------------------------\u001B[0m",
      "\u001B[1;31mKeyboardInterrupt\u001B[0m                         Traceback (most recent call last)",
      "\u001B[1;32mC:\\Users\\Public\\Documents\\ESTsoft\\CreatorTemp/ipykernel_6908/2546290048.py\u001B[0m in \u001B[0;36m<module>\u001B[1;34m\u001B[0m\n\u001B[0;32m      8\u001B[0m \u001B[1;32mfor\u001B[0m \u001B[0mdaily_data\u001B[0m \u001B[1;32min\u001B[0m \u001B[0mfile_list\u001B[0m\u001B[1;33m:\u001B[0m\u001B[1;33m\u001B[0m\u001B[1;33m\u001B[0m\u001B[0m\n\u001B[0;32m      9\u001B[0m     \u001B[0mdetector\u001B[0m \u001B[1;33m=\u001B[0m \u001B[0mCYL_DETECTOR\u001B[0m\u001B[1;33m(\u001B[0m\u001B[0mdaily_data\u001B[0m\u001B[1;33m)\u001B[0m\u001B[1;33m\u001B[0m\u001B[1;33m\u001B[0m\u001B[0m\n\u001B[1;32m---> 10\u001B[1;33m     \u001B[0mdetector\u001B[0m\u001B[1;33m.\u001B[0m\u001B[0mrun\u001B[0m\u001B[1;33m(\u001B[0m\u001B[1;33m)\u001B[0m\u001B[1;33m\u001B[0m\u001B[1;33m\u001B[0m\u001B[0m\n\u001B[0m",
      "\u001B[1;32mC:\\Users\\Public\\Documents\\ESTsoft\\CreatorTemp/ipykernel_6908/658843898.py\u001B[0m in \u001B[0;36mrun\u001B[1;34m(self)\u001B[0m\n\u001B[0;32m     41\u001B[0m     \u001B[1;32mdef\u001B[0m \u001B[0mrun\u001B[0m\u001B[1;33m(\u001B[0m\u001B[0mself\u001B[0m\u001B[1;33m)\u001B[0m\u001B[1;33m:\u001B[0m\u001B[1;33m\u001B[0m\u001B[1;33m\u001B[0m\u001B[0m\n\u001B[0;32m     42\u001B[0m         \u001B[0mself\u001B[0m\u001B[1;33m.\u001B[0m\u001B[0mdf\u001B[0m \u001B[1;33m=\u001B[0m \u001B[0mself\u001B[0m\u001B[1;33m.\u001B[0m\u001B[0mdata_preprocess\u001B[0m\u001B[1;33m(\u001B[0m\u001B[1;33m)\u001B[0m\u001B[1;33m\u001B[0m\u001B[1;33m\u001B[0m\u001B[0m\n\u001B[1;32m---> 43\u001B[1;33m         \u001B[0mself\u001B[0m\u001B[1;33m.\u001B[0m\u001B[0mcylinder_info_std\u001B[0m \u001B[1;33m=\u001B[0m \u001B[0mself\u001B[0m\u001B[1;33m.\u001B[0m\u001B[0mcylinder_analysis_std\u001B[0m\u001B[1;33m(\u001B[0m\u001B[0mself\u001B[0m\u001B[1;33m.\u001B[0m\u001B[0mdf\u001B[0m\u001B[1;33m)\u001B[0m\u001B[1;33m\u001B[0m\u001B[1;33m\u001B[0m\u001B[0m\n\u001B[0m\u001B[0;32m     44\u001B[0m         \u001B[0mself\u001B[0m\u001B[1;33m.\u001B[0m\u001B[0mcylinder_info_crest\u001B[0m \u001B[1;33m=\u001B[0m \u001B[0mself\u001B[0m\u001B[1;33m.\u001B[0m\u001B[0mcylinder_analysis_crest\u001B[0m\u001B[1;33m(\u001B[0m\u001B[0mself\u001B[0m\u001B[1;33m.\u001B[0m\u001B[0mdf\u001B[0m\u001B[1;33m)\u001B[0m\u001B[1;33m\u001B[0m\u001B[1;33m\u001B[0m\u001B[0m\n\u001B[0;32m     45\u001B[0m         \u001B[0mself\u001B[0m\u001B[1;33m.\u001B[0m\u001B[0mresult\u001B[0m \u001B[1;33m=\u001B[0m \u001B[1;33m[\u001B[0m\u001B[1;33m]\u001B[0m\u001B[1;33m\u001B[0m\u001B[1;33m\u001B[0m\u001B[0m\n",
      "\u001B[1;32mC:\\Users\\Public\\Documents\\ESTsoft\\CreatorTemp/ipykernel_6908/658843898.py\u001B[0m in \u001B[0;36mcylinder_analysis_std\u001B[1;34m(self, cyl_dataframe)\u001B[0m\n\u001B[0;32m    156\u001B[0m \u001B[1;33m\u001B[0m\u001B[0m\n\u001B[0;32m    157\u001B[0m                     \u001B[1;31m# test\u001B[0m\u001B[1;33m\u001B[0m\u001B[1;33m\u001B[0m\u001B[0m\n\u001B[1;32m--> 158\u001B[1;33m                     \u001B[0mstd\u001B[0m \u001B[1;33m=\u001B[0m \u001B[0mfloat\u001B[0m\u001B[1;33m(\u001B[0m\u001B[0mnp\u001B[0m\u001B[1;33m.\u001B[0m\u001B[0mstd\u001B[0m\u001B[1;33m(\u001B[0m\u001B[0mcylinder_data\u001B[0m\u001B[1;33m[\u001B[0m\u001B[0midx\u001B[0m \u001B[1;33m-\u001B[0m \u001B[1;36m1000\u001B[0m\u001B[1;33m:\u001B[0m \u001B[0midx\u001B[0m\u001B[1;33m]\u001B[0m\u001B[1;33m)\u001B[0m\u001B[1;33m)\u001B[0m\u001B[1;33m\u001B[0m\u001B[1;33m\u001B[0m\u001B[0m\n\u001B[0m\u001B[0;32m    159\u001B[0m                     \u001B[0mmean\u001B[0m \u001B[1;33m=\u001B[0m \u001B[0mfloat\u001B[0m\u001B[1;33m(\u001B[0m\u001B[0mnp\u001B[0m\u001B[1;33m.\u001B[0m\u001B[0mmean\u001B[0m\u001B[1;33m(\u001B[0m\u001B[0mcylinder_data\u001B[0m\u001B[1;33m[\u001B[0m\u001B[0midx\u001B[0m \u001B[1;33m-\u001B[0m \u001B[1;36m1000\u001B[0m\u001B[1;33m:\u001B[0m \u001B[0midx\u001B[0m\u001B[1;33m]\u001B[0m\u001B[1;33m)\u001B[0m\u001B[1;33m)\u001B[0m\u001B[1;33m\u001B[0m\u001B[1;33m\u001B[0m\u001B[0m\n\u001B[0;32m    160\u001B[0m                     \u001B[0mupper_line\u001B[0m \u001B[1;33m=\u001B[0m \u001B[1;33m(\u001B[0m\u001B[0mmean\u001B[0m \u001B[1;33m+\u001B[0m \u001B[0mstd\u001B[0m \u001B[1;33m*\u001B[0m \u001B[0msigma\u001B[0m\u001B[1;33m)\u001B[0m \u001B[1;33m*\u001B[0m \u001B[1;33m(\u001B[0m\u001B[1;36m1\u001B[0m \u001B[1;33m+\u001B[0m \u001B[0mweight\u001B[0m\u001B[1;33m)\u001B[0m\u001B[1;33m\u001B[0m\u001B[1;33m\u001B[0m\u001B[0m\n",
      "\u001B[1;32m<__array_function__ internals>\u001B[0m in \u001B[0;36mstd\u001B[1;34m(*args, **kwargs)\u001B[0m\n",
      "\u001B[1;32mC:\\ProgramData\\Miniconda3\\envs\\py39\\lib\\site-packages\\numpy\\core\\fromnumeric.py\u001B[0m in \u001B[0;36mstd\u001B[1;34m(a, axis, dtype, out, ddof, keepdims, where)\u001B[0m\n\u001B[0;32m   3577\u001B[0m             \u001B[1;32mpass\u001B[0m\u001B[1;33m\u001B[0m\u001B[1;33m\u001B[0m\u001B[0m\n\u001B[0;32m   3578\u001B[0m         \u001B[1;32melse\u001B[0m\u001B[1;33m:\u001B[0m\u001B[1;33m\u001B[0m\u001B[1;33m\u001B[0m\u001B[0m\n\u001B[1;32m-> 3579\u001B[1;33m             \u001B[1;32mreturn\u001B[0m \u001B[0mstd\u001B[0m\u001B[1;33m(\u001B[0m\u001B[0maxis\u001B[0m\u001B[1;33m=\u001B[0m\u001B[0maxis\u001B[0m\u001B[1;33m,\u001B[0m \u001B[0mdtype\u001B[0m\u001B[1;33m=\u001B[0m\u001B[0mdtype\u001B[0m\u001B[1;33m,\u001B[0m \u001B[0mout\u001B[0m\u001B[1;33m=\u001B[0m\u001B[0mout\u001B[0m\u001B[1;33m,\u001B[0m \u001B[0mddof\u001B[0m\u001B[1;33m=\u001B[0m\u001B[0mddof\u001B[0m\u001B[1;33m,\u001B[0m \u001B[1;33m**\u001B[0m\u001B[0mkwargs\u001B[0m\u001B[1;33m)\u001B[0m\u001B[1;33m\u001B[0m\u001B[1;33m\u001B[0m\u001B[0m\n\u001B[0m\u001B[0;32m   3580\u001B[0m \u001B[1;33m\u001B[0m\u001B[0m\n\u001B[0;32m   3581\u001B[0m     return _methods._std(a, axis=axis, dtype=dtype, out=out, ddof=ddof,\n",
      "\u001B[1;32mC:\\ProgramData\\Miniconda3\\envs\\py39\\lib\\site-packages\\pandas\\core\\generic.py\u001B[0m in \u001B[0;36mstd\u001B[1;34m(self, axis, skipna, level, ddof, numeric_only, **kwargs)\u001B[0m\n\u001B[0;32m  10626\u001B[0m             \u001B[1;33m**\u001B[0m\u001B[0mkwargs\u001B[0m\u001B[1;33m,\u001B[0m\u001B[1;33m\u001B[0m\u001B[1;33m\u001B[0m\u001B[0m\n\u001B[0;32m  10627\u001B[0m         ):\n\u001B[1;32m> 10628\u001B[1;33m             \u001B[1;32mreturn\u001B[0m \u001B[0mNDFrame\u001B[0m\u001B[1;33m.\u001B[0m\u001B[0mstd\u001B[0m\u001B[1;33m(\u001B[0m\u001B[0mself\u001B[0m\u001B[1;33m,\u001B[0m \u001B[0maxis\u001B[0m\u001B[1;33m,\u001B[0m \u001B[0mskipna\u001B[0m\u001B[1;33m,\u001B[0m \u001B[0mlevel\u001B[0m\u001B[1;33m,\u001B[0m \u001B[0mddof\u001B[0m\u001B[1;33m,\u001B[0m \u001B[0mnumeric_only\u001B[0m\u001B[1;33m,\u001B[0m \u001B[1;33m**\u001B[0m\u001B[0mkwargs\u001B[0m\u001B[1;33m)\u001B[0m\u001B[1;33m\u001B[0m\u001B[1;33m\u001B[0m\u001B[0m\n\u001B[0m\u001B[0;32m  10629\u001B[0m \u001B[1;33m\u001B[0m\u001B[0m\n\u001B[0;32m  10630\u001B[0m         \u001B[0msetattr\u001B[0m\u001B[1;33m(\u001B[0m\u001B[0mcls\u001B[0m\u001B[1;33m,\u001B[0m \u001B[1;34m\"std\"\u001B[0m\u001B[1;33m,\u001B[0m \u001B[0mstd\u001B[0m\u001B[1;33m)\u001B[0m\u001B[1;33m\u001B[0m\u001B[1;33m\u001B[0m\u001B[0m\n",
      "\u001B[1;32mC:\\ProgramData\\Miniconda3\\envs\\py39\\lib\\site-packages\\pandas\\core\\generic.py\u001B[0m in \u001B[0;36mstd\u001B[1;34m(self, axis, skipna, level, ddof, numeric_only, **kwargs)\u001B[0m\n\u001B[0;32m  10318\u001B[0m         \u001B[0mself\u001B[0m\u001B[1;33m,\u001B[0m \u001B[0maxis\u001B[0m\u001B[1;33m=\u001B[0m\u001B[1;32mNone\u001B[0m\u001B[1;33m,\u001B[0m \u001B[0mskipna\u001B[0m\u001B[1;33m=\u001B[0m\u001B[1;32mNone\u001B[0m\u001B[1;33m,\u001B[0m \u001B[0mlevel\u001B[0m\u001B[1;33m=\u001B[0m\u001B[1;32mNone\u001B[0m\u001B[1;33m,\u001B[0m \u001B[0mddof\u001B[0m\u001B[1;33m=\u001B[0m\u001B[1;36m1\u001B[0m\u001B[1;33m,\u001B[0m \u001B[0mnumeric_only\u001B[0m\u001B[1;33m=\u001B[0m\u001B[1;32mNone\u001B[0m\u001B[1;33m,\u001B[0m \u001B[1;33m**\u001B[0m\u001B[0mkwargs\u001B[0m\u001B[1;33m\u001B[0m\u001B[1;33m\u001B[0m\u001B[0m\n\u001B[0;32m  10319\u001B[0m     ):\n\u001B[1;32m> 10320\u001B[1;33m         return self._stat_function_ddof(\n\u001B[0m\u001B[0;32m  10321\u001B[0m             \u001B[1;34m\"std\"\u001B[0m\u001B[1;33m,\u001B[0m \u001B[0mnanops\u001B[0m\u001B[1;33m.\u001B[0m\u001B[0mnanstd\u001B[0m\u001B[1;33m,\u001B[0m \u001B[0maxis\u001B[0m\u001B[1;33m,\u001B[0m \u001B[0mskipna\u001B[0m\u001B[1;33m,\u001B[0m \u001B[0mlevel\u001B[0m\u001B[1;33m,\u001B[0m \u001B[0mddof\u001B[0m\u001B[1;33m,\u001B[0m \u001B[0mnumeric_only\u001B[0m\u001B[1;33m,\u001B[0m \u001B[1;33m**\u001B[0m\u001B[0mkwargs\u001B[0m\u001B[1;33m\u001B[0m\u001B[1;33m\u001B[0m\u001B[0m\n\u001B[0;32m  10322\u001B[0m         )\n",
      "\u001B[1;32mC:\\ProgramData\\Miniconda3\\envs\\py39\\lib\\site-packages\\pandas\\core\\generic.py\u001B[0m in \u001B[0;36m_stat_function_ddof\u001B[1;34m(self, name, func, axis, skipna, level, ddof, numeric_only, **kwargs)\u001B[0m\n\u001B[0;32m  10297\u001B[0m                 \u001B[0mname\u001B[0m\u001B[1;33m,\u001B[0m \u001B[0maxis\u001B[0m\u001B[1;33m=\u001B[0m\u001B[0maxis\u001B[0m\u001B[1;33m,\u001B[0m \u001B[0mlevel\u001B[0m\u001B[1;33m=\u001B[0m\u001B[0mlevel\u001B[0m\u001B[1;33m,\u001B[0m \u001B[0mskipna\u001B[0m\u001B[1;33m=\u001B[0m\u001B[0mskipna\u001B[0m\u001B[1;33m,\u001B[0m \u001B[0mddof\u001B[0m\u001B[1;33m=\u001B[0m\u001B[0mddof\u001B[0m\u001B[1;33m\u001B[0m\u001B[1;33m\u001B[0m\u001B[0m\n\u001B[0;32m  10298\u001B[0m             )\n\u001B[1;32m> 10299\u001B[1;33m         return self._reduce(\n\u001B[0m\u001B[0;32m  10300\u001B[0m             \u001B[0mfunc\u001B[0m\u001B[1;33m,\u001B[0m \u001B[0mname\u001B[0m\u001B[1;33m,\u001B[0m \u001B[0maxis\u001B[0m\u001B[1;33m=\u001B[0m\u001B[0maxis\u001B[0m\u001B[1;33m,\u001B[0m \u001B[0mnumeric_only\u001B[0m\u001B[1;33m=\u001B[0m\u001B[0mnumeric_only\u001B[0m\u001B[1;33m,\u001B[0m \u001B[0mskipna\u001B[0m\u001B[1;33m=\u001B[0m\u001B[0mskipna\u001B[0m\u001B[1;33m,\u001B[0m \u001B[0mddof\u001B[0m\u001B[1;33m=\u001B[0m\u001B[0mddof\u001B[0m\u001B[1;33m\u001B[0m\u001B[1;33m\u001B[0m\u001B[0m\n\u001B[0;32m  10301\u001B[0m         )\n",
      "\u001B[1;32mC:\\ProgramData\\Miniconda3\\envs\\py39\\lib\\site-packages\\pandas\\core\\series.py\u001B[0m in \u001B[0;36m_reduce\u001B[1;34m(self, op, name, axis, skipna, numeric_only, filter_type, **kwds)\u001B[0m\n\u001B[0;32m   4390\u001B[0m                 )\n\u001B[0;32m   4391\u001B[0m             \u001B[1;32mwith\u001B[0m \u001B[0mnp\u001B[0m\u001B[1;33m.\u001B[0m\u001B[0merrstate\u001B[0m\u001B[1;33m(\u001B[0m\u001B[0mall\u001B[0m\u001B[1;33m=\u001B[0m\u001B[1;34m\"ignore\"\u001B[0m\u001B[1;33m)\u001B[0m\u001B[1;33m:\u001B[0m\u001B[1;33m\u001B[0m\u001B[1;33m\u001B[0m\u001B[0m\n\u001B[1;32m-> 4392\u001B[1;33m                 \u001B[1;32mreturn\u001B[0m \u001B[0mop\u001B[0m\u001B[1;33m(\u001B[0m\u001B[0mdelegate\u001B[0m\u001B[1;33m,\u001B[0m \u001B[0mskipna\u001B[0m\u001B[1;33m=\u001B[0m\u001B[0mskipna\u001B[0m\u001B[1;33m,\u001B[0m \u001B[1;33m**\u001B[0m\u001B[0mkwds\u001B[0m\u001B[1;33m)\u001B[0m\u001B[1;33m\u001B[0m\u001B[1;33m\u001B[0m\u001B[0m\n\u001B[0m\u001B[0;32m   4393\u001B[0m \u001B[1;33m\u001B[0m\u001B[0m\n\u001B[0;32m   4394\u001B[0m     def _reindex_indexer(\n",
      "\u001B[1;32mC:\\ProgramData\\Miniconda3\\envs\\py39\\lib\\site-packages\\pandas\\core\\nanops.py\u001B[0m in \u001B[0;36mf\u001B[1;34m(values, axis, skipna, **kwds)\u001B[0m\n\u001B[0;32m    153\u001B[0m                     \u001B[0mresult\u001B[0m \u001B[1;33m=\u001B[0m \u001B[0malt\u001B[0m\u001B[1;33m(\u001B[0m\u001B[0mvalues\u001B[0m\u001B[1;33m,\u001B[0m \u001B[0maxis\u001B[0m\u001B[1;33m=\u001B[0m\u001B[0maxis\u001B[0m\u001B[1;33m,\u001B[0m \u001B[0mskipna\u001B[0m\u001B[1;33m=\u001B[0m\u001B[0mskipna\u001B[0m\u001B[1;33m,\u001B[0m \u001B[1;33m**\u001B[0m\u001B[0mkwds\u001B[0m\u001B[1;33m)\u001B[0m\u001B[1;33m\u001B[0m\u001B[1;33m\u001B[0m\u001B[0m\n\u001B[0;32m    154\u001B[0m             \u001B[1;32melse\u001B[0m\u001B[1;33m:\u001B[0m\u001B[1;33m\u001B[0m\u001B[1;33m\u001B[0m\u001B[0m\n\u001B[1;32m--> 155\u001B[1;33m                 \u001B[0mresult\u001B[0m \u001B[1;33m=\u001B[0m \u001B[0malt\u001B[0m\u001B[1;33m(\u001B[0m\u001B[0mvalues\u001B[0m\u001B[1;33m,\u001B[0m \u001B[0maxis\u001B[0m\u001B[1;33m=\u001B[0m\u001B[0maxis\u001B[0m\u001B[1;33m,\u001B[0m \u001B[0mskipna\u001B[0m\u001B[1;33m=\u001B[0m\u001B[0mskipna\u001B[0m\u001B[1;33m,\u001B[0m \u001B[1;33m**\u001B[0m\u001B[0mkwds\u001B[0m\u001B[1;33m)\u001B[0m\u001B[1;33m\u001B[0m\u001B[1;33m\u001B[0m\u001B[0m\n\u001B[0m\u001B[0;32m    156\u001B[0m \u001B[1;33m\u001B[0m\u001B[0m\n\u001B[0;32m    157\u001B[0m             \u001B[1;32mreturn\u001B[0m \u001B[0mresult\u001B[0m\u001B[1;33m\u001B[0m\u001B[1;33m\u001B[0m\u001B[0m\n",
      "\u001B[1;32mC:\\ProgramData\\Miniconda3\\envs\\py39\\lib\\site-packages\\pandas\\core\\nanops.py\u001B[0m in \u001B[0;36mnanstd\u001B[1;34m(values, axis, skipna, ddof, mask)\u001B[0m\n\u001B[0;32m    868\u001B[0m \u001B[1;33m\u001B[0m\u001B[0m\n\u001B[0;32m    869\u001B[0m     \u001B[0morig_dtype\u001B[0m \u001B[1;33m=\u001B[0m \u001B[0mvalues\u001B[0m\u001B[1;33m.\u001B[0m\u001B[0mdtype\u001B[0m\u001B[1;33m\u001B[0m\u001B[1;33m\u001B[0m\u001B[0m\n\u001B[1;32m--> 870\u001B[1;33m     \u001B[0mvalues\u001B[0m\u001B[1;33m,\u001B[0m \u001B[0mmask\u001B[0m\u001B[1;33m,\u001B[0m \u001B[0m_\u001B[0m\u001B[1;33m,\u001B[0m \u001B[0m_\u001B[0m\u001B[1;33m,\u001B[0m \u001B[0m_\u001B[0m \u001B[1;33m=\u001B[0m \u001B[0m_get_values\u001B[0m\u001B[1;33m(\u001B[0m\u001B[0mvalues\u001B[0m\u001B[1;33m,\u001B[0m \u001B[0mskipna\u001B[0m\u001B[1;33m,\u001B[0m \u001B[0mmask\u001B[0m\u001B[1;33m=\u001B[0m\u001B[0mmask\u001B[0m\u001B[1;33m)\u001B[0m\u001B[1;33m\u001B[0m\u001B[1;33m\u001B[0m\u001B[0m\n\u001B[0m\u001B[0;32m    871\u001B[0m \u001B[1;33m\u001B[0m\u001B[0m\n\u001B[0;32m    872\u001B[0m     \u001B[0mresult\u001B[0m \u001B[1;33m=\u001B[0m \u001B[0mnp\u001B[0m\u001B[1;33m.\u001B[0m\u001B[0msqrt\u001B[0m\u001B[1;33m(\u001B[0m\u001B[0mnanvar\u001B[0m\u001B[1;33m(\u001B[0m\u001B[0mvalues\u001B[0m\u001B[1;33m,\u001B[0m \u001B[0maxis\u001B[0m\u001B[1;33m=\u001B[0m\u001B[0maxis\u001B[0m\u001B[1;33m,\u001B[0m \u001B[0mskipna\u001B[0m\u001B[1;33m=\u001B[0m\u001B[0mskipna\u001B[0m\u001B[1;33m,\u001B[0m \u001B[0mddof\u001B[0m\u001B[1;33m=\u001B[0m\u001B[0mddof\u001B[0m\u001B[1;33m,\u001B[0m \u001B[0mmask\u001B[0m\u001B[1;33m=\u001B[0m\u001B[0mmask\u001B[0m\u001B[1;33m)\u001B[0m\u001B[1;33m)\u001B[0m\u001B[1;33m\u001B[0m\u001B[1;33m\u001B[0m\u001B[0m\n",
      "\u001B[1;32mC:\\ProgramData\\Miniconda3\\envs\\py39\\lib\\site-packages\\pandas\\core\\nanops.py\u001B[0m in \u001B[0;36m_get_values\u001B[1;34m(values, skipna, fill_value, fill_value_typ, mask)\u001B[0m\n\u001B[0;32m    326\u001B[0m \u001B[1;33m\u001B[0m\u001B[0m\n\u001B[0;32m    327\u001B[0m     \u001B[1;32mif\u001B[0m \u001B[0mskipna\u001B[0m \u001B[1;32mand\u001B[0m \u001B[1;33m(\u001B[0m\u001B[0mmask\u001B[0m \u001B[1;32mis\u001B[0m \u001B[1;32mnot\u001B[0m \u001B[1;32mNone\u001B[0m\u001B[1;33m)\u001B[0m \u001B[1;32mand\u001B[0m \u001B[1;33m(\u001B[0m\u001B[0mfill_value\u001B[0m \u001B[1;32mis\u001B[0m \u001B[1;32mnot\u001B[0m \u001B[1;32mNone\u001B[0m\u001B[1;33m)\u001B[0m\u001B[1;33m:\u001B[0m\u001B[1;33m\u001B[0m\u001B[1;33m\u001B[0m\u001B[0m\n\u001B[1;32m--> 328\u001B[1;33m         \u001B[1;32mif\u001B[0m \u001B[0mmask\u001B[0m\u001B[1;33m.\u001B[0m\u001B[0many\u001B[0m\u001B[1;33m(\u001B[0m\u001B[1;33m)\u001B[0m\u001B[1;33m:\u001B[0m\u001B[1;33m\u001B[0m\u001B[1;33m\u001B[0m\u001B[0m\n\u001B[0m\u001B[0;32m    329\u001B[0m             \u001B[1;32mif\u001B[0m \u001B[0mdtype_ok\u001B[0m \u001B[1;32mor\u001B[0m \u001B[0mdatetimelike\u001B[0m\u001B[1;33m:\u001B[0m\u001B[1;33m\u001B[0m\u001B[1;33m\u001B[0m\u001B[0m\n\u001B[0;32m    330\u001B[0m                 \u001B[0mvalues\u001B[0m \u001B[1;33m=\u001B[0m \u001B[0mvalues\u001B[0m\u001B[1;33m.\u001B[0m\u001B[0mcopy\u001B[0m\u001B[1;33m(\u001B[0m\u001B[1;33m)\u001B[0m\u001B[1;33m\u001B[0m\u001B[1;33m\u001B[0m\u001B[0m\n",
      "\u001B[1;32mC:\\ProgramData\\Miniconda3\\envs\\py39\\lib\\site-packages\\numpy\\core\\_methods.py\u001B[0m in \u001B[0;36m_any\u001B[1;34m(a, axis, dtype, out, keepdims, where)\u001B[0m\n\u001B[0;32m     55\u001B[0m     \u001B[1;31m# Parsing keyword arguments is currently fairly slow, so avoid it for now\u001B[0m\u001B[1;33m\u001B[0m\u001B[1;33m\u001B[0m\u001B[0m\n\u001B[0;32m     56\u001B[0m     \u001B[1;32mif\u001B[0m \u001B[0mwhere\u001B[0m \u001B[1;32mis\u001B[0m \u001B[1;32mTrue\u001B[0m\u001B[1;33m:\u001B[0m\u001B[1;33m\u001B[0m\u001B[1;33m\u001B[0m\u001B[0m\n\u001B[1;32m---> 57\u001B[1;33m         \u001B[1;32mreturn\u001B[0m \u001B[0mumr_any\u001B[0m\u001B[1;33m(\u001B[0m\u001B[0ma\u001B[0m\u001B[1;33m,\u001B[0m \u001B[0maxis\u001B[0m\u001B[1;33m,\u001B[0m \u001B[0mdtype\u001B[0m\u001B[1;33m,\u001B[0m \u001B[0mout\u001B[0m\u001B[1;33m,\u001B[0m \u001B[0mkeepdims\u001B[0m\u001B[1;33m)\u001B[0m\u001B[1;33m\u001B[0m\u001B[1;33m\u001B[0m\u001B[0m\n\u001B[0m\u001B[0;32m     58\u001B[0m     \u001B[1;32mreturn\u001B[0m \u001B[0mumr_any\u001B[0m\u001B[1;33m(\u001B[0m\u001B[0ma\u001B[0m\u001B[1;33m,\u001B[0m \u001B[0maxis\u001B[0m\u001B[1;33m,\u001B[0m \u001B[0mdtype\u001B[0m\u001B[1;33m,\u001B[0m \u001B[0mout\u001B[0m\u001B[1;33m,\u001B[0m \u001B[0mkeepdims\u001B[0m\u001B[1;33m,\u001B[0m \u001B[0mwhere\u001B[0m\u001B[1;33m=\u001B[0m\u001B[0mwhere\u001B[0m\u001B[1;33m)\u001B[0m\u001B[1;33m\u001B[0m\u001B[1;33m\u001B[0m\u001B[0m\n\u001B[0;32m     59\u001B[0m \u001B[1;33m\u001B[0m\u001B[0m\n",
      "\u001B[1;31mKeyboardInterrupt\u001B[0m: "
     ]
    }
   ],
   "source": [
    "file_list = []\n",
    "dir_path = 'data/PKG4/2109'\n",
    "csv_list = os.listdir(dir_path)\n",
    "for file in csv_list:\n",
    "    if file.split('.')[1] =='csv':\n",
    "        file_list.append((os.path.join(dir_path, file)))\n",
    "\n",
    "for daily_data in file_list:\n",
    "    detector = CYL_DETECTOR(daily_data)\n",
    "    detector.run()"
   ],
   "metadata": {
    "collapsed": false,
    "pycharm": {
     "name": "#%%\n"
    }
   }
  }
 ],
 "metadata": {
  "kernelspec": {
   "display_name": "Python 3",
   "language": "python",
   "name": "python3"
  },
  "language_info": {
   "codemirror_mode": {
    "name": "ipython",
    "version": 2
   },
   "file_extension": ".py",
   "mimetype": "text/x-python",
   "name": "python",
   "nbconvert_exporter": "python",
   "pygments_lexer": "ipython2",
   "version": "2.7.6"
  }
 },
 "nbformat": 4,
 "nbformat_minor": 0
}