{
 "cells": [
  {
   "cell_type": "code",
   "execution_count": 2,
   "metadata": {
    "collapsed": true
   },
   "outputs": [],
   "source": [
    "import pandas as pd\n",
    "import os\n",
    "from lib import data_handling_helper\n",
    "\n",
    "helper = data_handling_helper.DATA_HELPER()\n",
    "\n",
    "csv_dir = 'data/fdc'\n",
    "\n",
    "csv_file_list = os.listdir(csv_dir)\n",
    "\n",
    "for csv_file in csv_file_list:\n",
    "\n",
    "    csv_path = os.path.join(csv_dir,csv_file)\n",
    "    output = helper.file_to_csv(csv_path,[6,7,17,19])\n",
    "    output.to_csv('output/fdc/'+csv_file)\n",
    "\n",
    "# output"
   ]
  },
  {
   "cell_type": "code",
   "execution_count": 4,
   "outputs": [
    {
     "name": "stdout",
     "output_type": "stream",
     "text": [
      "Result :0\n"
     ]
    }
   ],
   "source": [
    "from multiprocessing import Process, Queue\n",
    "\n",
    "def work(id, start, end, result):\n",
    "    total = 0\n",
    "    for i in range(start,end):\n",
    "        total+=i\n",
    "    result.put(total)\n",
    "\n",
    "    return\n",
    "\n",
    "\n",
    "if __name__ =='__main__':\n",
    "    START, END = 0, 100000\n",
    "    result = Queue()\n",
    "\n",
    "    th1 =  Process(target= work, args=(1,START,END//2, result))\n",
    "    th2 =  Process(target= work, args=(2,END//2, END,result))\n",
    "\n",
    "\n",
    "    th1.start()\n",
    "    th2.start()\n",
    "\n",
    "    th1.join()\n",
    "    th2.join()\n",
    "\n",
    "\n",
    "    result.put('STOP')\n",
    "    total = 0\n",
    "\n",
    "\n",
    "    while True:\n",
    "        tmp = result.get()\n",
    "        if tmp == 'STOP':\n",
    "            break\n",
    "\n",
    "        else:\n",
    "            total += tmp\n",
    "\n",
    "    print(f'Result :{total}')"
   ],
   "metadata": {
    "collapsed": false,
    "pycharm": {
     "name": "#%%\n"
    }
   }
  },
  {
   "cell_type": "markdown",
   "source": [
    "<img src=\"캡처.PNG\">"
   ],
   "metadata": {
    "collapsed": false
   }
  },
  {
   "cell_type": "code",
   "execution_count": 8,
   "outputs": [
    {
     "ename": "KeyboardInterrupt",
     "evalue": "",
     "output_type": "error",
     "traceback": [
      "\u001B[1;31m---------------------------------------------------------------------------\u001B[0m",
      "\u001B[1;31mKeyboardInterrupt\u001B[0m                         Traceback (most recent call last)",
      "\u001B[1;32mC:\\Users\\Public\\Documents\\ESTsoft\\CreatorTemp/ipykernel_21004/1116626191.py\u001B[0m in \u001B[0;36m<module>\u001B[1;34m\u001B[0m\n\u001B[0;32m     23\u001B[0m     \u001B[0mtotal\u001B[0m \u001B[1;33m=\u001B[0m \u001B[1;36m0\u001B[0m\u001B[1;33m\u001B[0m\u001B[1;33m\u001B[0m\u001B[0m\n\u001B[0;32m     24\u001B[0m     \u001B[1;32mwhile\u001B[0m \u001B[1;32mTrue\u001B[0m\u001B[1;33m:\u001B[0m\u001B[1;33m\u001B[0m\u001B[1;33m\u001B[0m\u001B[0m\n\u001B[1;32m---> 25\u001B[1;33m         \u001B[0mtmp\u001B[0m \u001B[1;33m=\u001B[0m \u001B[0mresult\u001B[0m\u001B[1;33m.\u001B[0m\u001B[0mget\u001B[0m\u001B[1;33m(\u001B[0m\u001B[1;33m)\u001B[0m\u001B[1;33m\u001B[0m\u001B[1;33m\u001B[0m\u001B[0m\n\u001B[0m\u001B[0;32m     26\u001B[0m         \u001B[1;32mif\u001B[0m \u001B[0mtmp\u001B[0m \u001B[1;33m==\u001B[0m \u001B[1;34m'STOP'\u001B[0m\u001B[1;33m:\u001B[0m\u001B[1;33m\u001B[0m\u001B[1;33m\u001B[0m\u001B[0m\n\u001B[0;32m     27\u001B[0m             \u001B[1;31m# break\u001B[0m\u001B[1;33m\u001B[0m\u001B[1;33m\u001B[0m\u001B[0m\n",
      "\u001B[1;32mC:\\ProgramData\\Miniconda3\\envs\\py\\lib\\multiprocessing\\queues.py\u001B[0m in \u001B[0;36mget\u001B[1;34m(self, block, timeout)\u001B[0m\n\u001B[0;32m    101\u001B[0m         \u001B[1;32mif\u001B[0m \u001B[0mblock\u001B[0m \u001B[1;32mand\u001B[0m \u001B[0mtimeout\u001B[0m \u001B[1;32mis\u001B[0m \u001B[1;32mNone\u001B[0m\u001B[1;33m:\u001B[0m\u001B[1;33m\u001B[0m\u001B[1;33m\u001B[0m\u001B[0m\n\u001B[0;32m    102\u001B[0m             \u001B[1;32mwith\u001B[0m \u001B[0mself\u001B[0m\u001B[1;33m.\u001B[0m\u001B[0m_rlock\u001B[0m\u001B[1;33m:\u001B[0m\u001B[1;33m\u001B[0m\u001B[1;33m\u001B[0m\u001B[0m\n\u001B[1;32m--> 103\u001B[1;33m                 \u001B[0mres\u001B[0m \u001B[1;33m=\u001B[0m \u001B[0mself\u001B[0m\u001B[1;33m.\u001B[0m\u001B[0m_recv_bytes\u001B[0m\u001B[1;33m(\u001B[0m\u001B[1;33m)\u001B[0m\u001B[1;33m\u001B[0m\u001B[1;33m\u001B[0m\u001B[0m\n\u001B[0m\u001B[0;32m    104\u001B[0m             \u001B[0mself\u001B[0m\u001B[1;33m.\u001B[0m\u001B[0m_sem\u001B[0m\u001B[1;33m.\u001B[0m\u001B[0mrelease\u001B[0m\u001B[1;33m(\u001B[0m\u001B[1;33m)\u001B[0m\u001B[1;33m\u001B[0m\u001B[1;33m\u001B[0m\u001B[0m\n\u001B[0;32m    105\u001B[0m         \u001B[1;32melse\u001B[0m\u001B[1;33m:\u001B[0m\u001B[1;33m\u001B[0m\u001B[1;33m\u001B[0m\u001B[0m\n",
      "\u001B[1;32mC:\\ProgramData\\Miniconda3\\envs\\py\\lib\\multiprocessing\\connection.py\u001B[0m in \u001B[0;36mrecv_bytes\u001B[1;34m(self, maxlength)\u001B[0m\n\u001B[0;32m    219\u001B[0m         \u001B[1;32mif\u001B[0m \u001B[0mmaxlength\u001B[0m \u001B[1;32mis\u001B[0m \u001B[1;32mnot\u001B[0m \u001B[1;32mNone\u001B[0m \u001B[1;32mand\u001B[0m \u001B[0mmaxlength\u001B[0m \u001B[1;33m<\u001B[0m \u001B[1;36m0\u001B[0m\u001B[1;33m:\u001B[0m\u001B[1;33m\u001B[0m\u001B[1;33m\u001B[0m\u001B[0m\n\u001B[0;32m    220\u001B[0m             \u001B[1;32mraise\u001B[0m \u001B[0mValueError\u001B[0m\u001B[1;33m(\u001B[0m\u001B[1;34m\"negative maxlength\"\u001B[0m\u001B[1;33m)\u001B[0m\u001B[1;33m\u001B[0m\u001B[1;33m\u001B[0m\u001B[0m\n\u001B[1;32m--> 221\u001B[1;33m         \u001B[0mbuf\u001B[0m \u001B[1;33m=\u001B[0m \u001B[0mself\u001B[0m\u001B[1;33m.\u001B[0m\u001B[0m_recv_bytes\u001B[0m\u001B[1;33m(\u001B[0m\u001B[0mmaxlength\u001B[0m\u001B[1;33m)\u001B[0m\u001B[1;33m\u001B[0m\u001B[1;33m\u001B[0m\u001B[0m\n\u001B[0m\u001B[0;32m    222\u001B[0m         \u001B[1;32mif\u001B[0m \u001B[0mbuf\u001B[0m \u001B[1;32mis\u001B[0m \u001B[1;32mNone\u001B[0m\u001B[1;33m:\u001B[0m\u001B[1;33m\u001B[0m\u001B[1;33m\u001B[0m\u001B[0m\n\u001B[0;32m    223\u001B[0m             \u001B[0mself\u001B[0m\u001B[1;33m.\u001B[0m\u001B[0m_bad_message_length\u001B[0m\u001B[1;33m(\u001B[0m\u001B[1;33m)\u001B[0m\u001B[1;33m\u001B[0m\u001B[1;33m\u001B[0m\u001B[0m\n",
      "\u001B[1;32mC:\\ProgramData\\Miniconda3\\envs\\py\\lib\\multiprocessing\\connection.py\u001B[0m in \u001B[0;36m_recv_bytes\u001B[1;34m(self, maxsize)\u001B[0m\n\u001B[0;32m    308\u001B[0m                     \u001B[1;32mtry\u001B[0m\u001B[1;33m:\u001B[0m\u001B[1;33m\u001B[0m\u001B[1;33m\u001B[0m\u001B[0m\n\u001B[0;32m    309\u001B[0m                         \u001B[1;32mif\u001B[0m \u001B[0merr\u001B[0m \u001B[1;33m==\u001B[0m \u001B[0m_winapi\u001B[0m\u001B[1;33m.\u001B[0m\u001B[0mERROR_IO_PENDING\u001B[0m\u001B[1;33m:\u001B[0m\u001B[1;33m\u001B[0m\u001B[1;33m\u001B[0m\u001B[0m\n\u001B[1;32m--> 310\u001B[1;33m                             waitres = _winapi.WaitForMultipleObjects(\n\u001B[0m\u001B[0;32m    311\u001B[0m                                 [ov.event], False, INFINITE)\n\u001B[0;32m    312\u001B[0m                             \u001B[1;32massert\u001B[0m \u001B[0mwaitres\u001B[0m \u001B[1;33m==\u001B[0m \u001B[0mWAIT_OBJECT_0\u001B[0m\u001B[1;33m\u001B[0m\u001B[1;33m\u001B[0m\u001B[0m\n",
      "\u001B[1;31mKeyboardInterrupt\u001B[0m: "
     ]
    }
   ],
   "source": [],
   "metadata": {
    "collapsed": false,
    "pycharm": {
     "name": "#%%\n"
    }
   }
  }
 ],
 "metadata": {
  "kernelspec": {
   "display_name": "Python 3",
   "language": "python",
   "name": "python3"
  },
  "language_info": {
   "codemirror_mode": {
    "name": "ipython",
    "version": 2
   },
   "file_extension": ".py",
   "mimetype": "text/x-python",
   "name": "python",
   "nbconvert_exporter": "python",
   "pygments_lexer": "ipython2",
   "version": "2.7.6"
  }
 },
 "nbformat": 4,
 "nbformat_minor": 0
}