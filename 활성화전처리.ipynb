{
 "cells": [
  {
   "cell_type": "markdown",
   "source": [
    "# 활성화 데이터 추출코드\n"
   ],
   "metadata": {
    "collapsed": false
   }
  },
  {
   "cell_type": "code",
   "execution_count": 358,
   "metadata": {
    "collapsed": true
   },
   "outputs": [
    {
     "data": {
      "text/plain": "     Unnamed: 0                                     Unnamed: 1 Unnamed: 2  \\\n0           NaN  ■법인별 주요 불량 구분 (공정손실비용 - Sample, 샘플, QA 검사 제외)        NaN   \n1           NaN                                            NaN        NaN   \n2           NaN                                             구분        NaN   \n3           NaN                                            NaN        NaN   \n4           NaN                                       자동차\\n활성화       Site   \n..          ...                                            ...        ...   \n301         NaN                                            NaN        NaN   \n302         NaN                                            NaN        NaN   \n303         NaN                                            NaN        NaN   \n304         NaN                                            NaN        NaN   \n305         NaN                                            NaN        NaN   \n\n    Unnamed: 3           Unnamed: 4 Unnamed: 5    Unnamed: 6   Unnamed: 7  \\\n0          NaN                  NaN        NaN           NaN          NaN   \n1          NaN                  NaN        NaN           NaN          NaN   \n2          NaN                  NaN        21년           NaN          NaN   \n3          NaN                  NaN         1월           NaN           2월   \n4        불량 구분                  NaN     율\\n(%)  공정손실\\n비용(억원)       율\\n(%)   \n..         ...                  ...        ...           ...          ...   \n301        NaN       특성측정 Taping(%)   4.95e-06    0.00385412  2.58083e-07   \n302        NaN  특성측정 Sealing  주름(%)          0             0            0   \n303        NaN      특성측정 Cold IR(%)        NaN           NaN          NaN   \n304        NaN        특성측정 절연 저항(%)        NaN           NaN          NaN   \n305        NaN       특성측정 잔존량 불량(%)        NaN           NaN          NaN   \n\n       Unnamed: 8   Unnamed: 9  ... Unnamed: 21   Unnamed: 22 Unnamed: 23  \\\n0             NaN          NaN  ...         NaN           NaN         NaN   \n1             NaN          NaN  ...         NaN           NaN         NaN   \n2             NaN          NaN  ...         NaN           NaN         NaN   \n3             NaN           3월  ...          9월           NaN         10월   \n4    공정손실\\n비용(억원)       율\\n(%)  ...      율\\n(%)  공정손실\\n비용(억원)      율\\n(%)   \n..            ...          ...  ...         ...           ...         ...   \n301   0.000201977  1.68895e-06  ...         NaN           NaN         NaN   \n302             0            0  ...         NaN           NaN         NaN   \n303           NaN            0  ...         NaN           NaN         NaN   \n304           NaN            0  ...         NaN           NaN         NaN   \n305           NaN          NaN  ...         NaN           NaN         NaN   \n\n      Unnamed: 24 Unnamed: 25   Unnamed: 26 Unnamed: 27   Unnamed: 28  \\\n0             NaN         NaN           NaN         NaN           NaN   \n1             NaN         NaN           NaN         NaN           NaN   \n2             NaN         NaN           NaN         NaN           NaN   \n3             NaN         11월           NaN         12월           NaN   \n4    공정손실\\n비용(억원)      율\\n(%)  공정손실\\n비용(억원)      율\\n(%)  공정손실\\n비용(억원)   \n..            ...         ...           ...         ...           ...   \n301           NaN         NaN           NaN         NaN           NaN   \n302           NaN         NaN           NaN         NaN           NaN   \n303           NaN         NaN           NaN         NaN           NaN   \n304           NaN         NaN           NaN         NaN           NaN   \n305           NaN         NaN           NaN         NaN           NaN   \n\n    Unnamed: 29   Unnamed: 30  \n0           NaN           NaN  \n1           NaN           NaN  \n2           NaN           NaN  \n3     21年 Total           NaN  \n4        율\\n(%)  공정손실\\n비용(억원)  \n..          ...           ...  \n301         NaN      0.467379  \n302         NaN             0  \n303         NaN             0  \n304         NaN       4.25649  \n305         NaN             0  \n\n[306 rows x 31 columns]",
      "text/html": "<div>\n<style scoped>\n    .dataframe tbody tr th:only-of-type {\n        vertical-align: middle;\n    }\n\n    .dataframe tbody tr th {\n        vertical-align: top;\n    }\n\n    .dataframe thead th {\n        text-align: right;\n    }\n</style>\n<table border=\"1\" class=\"dataframe\">\n  <thead>\n    <tr style=\"text-align: right;\">\n      <th></th>\n      <th>Unnamed: 0</th>\n      <th>Unnamed: 1</th>\n      <th>Unnamed: 2</th>\n      <th>Unnamed: 3</th>\n      <th>Unnamed: 4</th>\n      <th>Unnamed: 5</th>\n      <th>Unnamed: 6</th>\n      <th>Unnamed: 7</th>\n      <th>Unnamed: 8</th>\n      <th>Unnamed: 9</th>\n      <th>...</th>\n      <th>Unnamed: 21</th>\n      <th>Unnamed: 22</th>\n      <th>Unnamed: 23</th>\n      <th>Unnamed: 24</th>\n      <th>Unnamed: 25</th>\n      <th>Unnamed: 26</th>\n      <th>Unnamed: 27</th>\n      <th>Unnamed: 28</th>\n      <th>Unnamed: 29</th>\n      <th>Unnamed: 30</th>\n    </tr>\n  </thead>\n  <tbody>\n    <tr>\n      <th>0</th>\n      <td>NaN</td>\n      <td>■법인별 주요 불량 구분 (공정손실비용 - Sample, 샘플, QA 검사 제외)</td>\n      <td>NaN</td>\n      <td>NaN</td>\n      <td>NaN</td>\n      <td>NaN</td>\n      <td>NaN</td>\n      <td>NaN</td>\n      <td>NaN</td>\n      <td>NaN</td>\n      <td>...</td>\n      <td>NaN</td>\n      <td>NaN</td>\n      <td>NaN</td>\n      <td>NaN</td>\n      <td>NaN</td>\n      <td>NaN</td>\n      <td>NaN</td>\n      <td>NaN</td>\n      <td>NaN</td>\n      <td>NaN</td>\n    </tr>\n    <tr>\n      <th>1</th>\n      <td>NaN</td>\n      <td>NaN</td>\n      <td>NaN</td>\n      <td>NaN</td>\n      <td>NaN</td>\n      <td>NaN</td>\n      <td>NaN</td>\n      <td>NaN</td>\n      <td>NaN</td>\n      <td>NaN</td>\n      <td>...</td>\n      <td>NaN</td>\n      <td>NaN</td>\n      <td>NaN</td>\n      <td>NaN</td>\n      <td>NaN</td>\n      <td>NaN</td>\n      <td>NaN</td>\n      <td>NaN</td>\n      <td>NaN</td>\n      <td>NaN</td>\n    </tr>\n    <tr>\n      <th>2</th>\n      <td>NaN</td>\n      <td>구분</td>\n      <td>NaN</td>\n      <td>NaN</td>\n      <td>NaN</td>\n      <td>21년</td>\n      <td>NaN</td>\n      <td>NaN</td>\n      <td>NaN</td>\n      <td>NaN</td>\n      <td>...</td>\n      <td>NaN</td>\n      <td>NaN</td>\n      <td>NaN</td>\n      <td>NaN</td>\n      <td>NaN</td>\n      <td>NaN</td>\n      <td>NaN</td>\n      <td>NaN</td>\n      <td>NaN</td>\n      <td>NaN</td>\n    </tr>\n    <tr>\n      <th>3</th>\n      <td>NaN</td>\n      <td>NaN</td>\n      <td>NaN</td>\n      <td>NaN</td>\n      <td>NaN</td>\n      <td>1월</td>\n      <td>NaN</td>\n      <td>2월</td>\n      <td>NaN</td>\n      <td>3월</td>\n      <td>...</td>\n      <td>9월</td>\n      <td>NaN</td>\n      <td>10월</td>\n      <td>NaN</td>\n      <td>11월</td>\n      <td>NaN</td>\n      <td>12월</td>\n      <td>NaN</td>\n      <td>21年 Total</td>\n      <td>NaN</td>\n    </tr>\n    <tr>\n      <th>4</th>\n      <td>NaN</td>\n      <td>자동차\\n활성화</td>\n      <td>Site</td>\n      <td>불량 구분</td>\n      <td>NaN</td>\n      <td>율\\n(%)</td>\n      <td>공정손실\\n비용(억원)</td>\n      <td>율\\n(%)</td>\n      <td>공정손실\\n비용(억원)</td>\n      <td>율\\n(%)</td>\n      <td>...</td>\n      <td>율\\n(%)</td>\n      <td>공정손실\\n비용(억원)</td>\n      <td>율\\n(%)</td>\n      <td>공정손실\\n비용(억원)</td>\n      <td>율\\n(%)</td>\n      <td>공정손실\\n비용(억원)</td>\n      <td>율\\n(%)</td>\n      <td>공정손실\\n비용(억원)</td>\n      <td>율\\n(%)</td>\n      <td>공정손실\\n비용(억원)</td>\n    </tr>\n    <tr>\n      <th>...</th>\n      <td>...</td>\n      <td>...</td>\n      <td>...</td>\n      <td>...</td>\n      <td>...</td>\n      <td>...</td>\n      <td>...</td>\n      <td>...</td>\n      <td>...</td>\n      <td>...</td>\n      <td>...</td>\n      <td>...</td>\n      <td>...</td>\n      <td>...</td>\n      <td>...</td>\n      <td>...</td>\n      <td>...</td>\n      <td>...</td>\n      <td>...</td>\n      <td>...</td>\n      <td>...</td>\n    </tr>\n    <tr>\n      <th>301</th>\n      <td>NaN</td>\n      <td>NaN</td>\n      <td>NaN</td>\n      <td>NaN</td>\n      <td>특성측정 Taping(%)</td>\n      <td>4.95e-06</td>\n      <td>0.00385412</td>\n      <td>2.58083e-07</td>\n      <td>0.000201977</td>\n      <td>1.68895e-06</td>\n      <td>...</td>\n      <td>NaN</td>\n      <td>NaN</td>\n      <td>NaN</td>\n      <td>NaN</td>\n      <td>NaN</td>\n      <td>NaN</td>\n      <td>NaN</td>\n      <td>NaN</td>\n      <td>NaN</td>\n      <td>0.467379</td>\n    </tr>\n    <tr>\n      <th>302</th>\n      <td>NaN</td>\n      <td>NaN</td>\n      <td>NaN</td>\n      <td>NaN</td>\n      <td>특성측정 Sealing  주름(%)</td>\n      <td>0</td>\n      <td>0</td>\n      <td>0</td>\n      <td>0</td>\n      <td>0</td>\n      <td>...</td>\n      <td>NaN</td>\n      <td>NaN</td>\n      <td>NaN</td>\n      <td>NaN</td>\n      <td>NaN</td>\n      <td>NaN</td>\n      <td>NaN</td>\n      <td>NaN</td>\n      <td>NaN</td>\n      <td>0</td>\n    </tr>\n    <tr>\n      <th>303</th>\n      <td>NaN</td>\n      <td>NaN</td>\n      <td>NaN</td>\n      <td>NaN</td>\n      <td>특성측정 Cold IR(%)</td>\n      <td>NaN</td>\n      <td>NaN</td>\n      <td>NaN</td>\n      <td>NaN</td>\n      <td>0</td>\n      <td>...</td>\n      <td>NaN</td>\n      <td>NaN</td>\n      <td>NaN</td>\n      <td>NaN</td>\n      <td>NaN</td>\n      <td>NaN</td>\n      <td>NaN</td>\n      <td>NaN</td>\n      <td>NaN</td>\n      <td>0</td>\n    </tr>\n    <tr>\n      <th>304</th>\n      <td>NaN</td>\n      <td>NaN</td>\n      <td>NaN</td>\n      <td>NaN</td>\n      <td>특성측정 절연 저항(%)</td>\n      <td>NaN</td>\n      <td>NaN</td>\n      <td>NaN</td>\n      <td>NaN</td>\n      <td>0</td>\n      <td>...</td>\n      <td>NaN</td>\n      <td>NaN</td>\n      <td>NaN</td>\n      <td>NaN</td>\n      <td>NaN</td>\n      <td>NaN</td>\n      <td>NaN</td>\n      <td>NaN</td>\n      <td>NaN</td>\n      <td>4.25649</td>\n    </tr>\n    <tr>\n      <th>305</th>\n      <td>NaN</td>\n      <td>NaN</td>\n      <td>NaN</td>\n      <td>NaN</td>\n      <td>특성측정 잔존량 불량(%)</td>\n      <td>NaN</td>\n      <td>NaN</td>\n      <td>NaN</td>\n      <td>NaN</td>\n      <td>NaN</td>\n      <td>...</td>\n      <td>NaN</td>\n      <td>NaN</td>\n      <td>NaN</td>\n      <td>NaN</td>\n      <td>NaN</td>\n      <td>NaN</td>\n      <td>NaN</td>\n      <td>NaN</td>\n      <td>NaN</td>\n      <td>0</td>\n    </tr>\n  </tbody>\n</table>\n<p>306 rows × 31 columns</p>\n</div>"
     },
     "execution_count": 358,
     "metadata": {},
     "output_type": "execute_result"
    }
   ],
   "source": [
    "import pandas as pd\n",
    "\n",
    "data_origin: object = pd.read_excel('data/활성화_원본.xlsx',sheet_name = 5)\n",
    "data_origin = pd.DataFrame(data_origin)\n",
    "data_origin"
   ]
  },
  {
   "cell_type": "code",
   "execution_count": 358,
   "outputs": [],
   "source": [],
   "metadata": {
    "collapsed": false,
    "pycharm": {
     "name": "#%%\n"
    }
   }
  },
  {
   "cell_type": "markdown",
   "source": [
    "데이터 추출 / 1차 필터링"
   ],
   "metadata": {
    "collapsed": false
   }
  },
  {
   "cell_type": "code",
   "execution_count": 359,
   "outputs": [],
   "source": [
    "# 공정데이터 가져옴 -> 유효row 인덱스만 가져옴 --> 전체 데이터에서 유효 인덱스만 추출해서 따로 저장(filtered)\n",
    "\n",
    "# 공정데이터가 있는 열을 가져오고 nan값 제거\n",
    "data_process = pd.DataFrame(data_origin[\"Unnamed: 4\"])\n",
    "data_process = data_process.dropna()\n",
    "\n",
    "# 유효row의 인덱스 저장 후 origin데이터에서 유효 row만 추출해서 필터링함.\n",
    "data_index = data_process.index.values.tolist()\n",
    "data_filtered = data_origin.iloc[data_index,:]\n",
    "\n",
    "# 앞 0~4열은 의미없는 정보이므로 삭제.\n",
    "data_filtered = data_filtered.reset_index()\n",
    "data_filtered = data_filtered.iloc[:,5:]\n",
    "\n",
    "\n",
    "tmp_list = data_filtered[\"Unnamed: 4\"].tolist()\n",
    "\n",
    "data_tmp = []\n",
    "idx = 0\n",
    "\n",
    "\n",
    "# Unnamed: 4 칼럼 표시형식 통일화\n",
    "for i, data in enumerate(data_filtered[\"Unnamed: 4\"]):\n",
    "    data = data.replace(' - ','-')\n",
    "    if data == 'Formation#1 그리퍼접촉(%)':\n",
    "        idx = i\n",
    "        break\n",
    "    data_tmp.append(data)\n",
    "\n",
    "for data in tmp_list[idx:]:\n",
    "    sp = data.find(' ')\n",
    "    data = data[: sp] + '-' + data[sp + 1: ]\n",
    "\n",
    "    data_tmp.append(data)\n",
    "\n",
    "data_filtered[\"Unnamed: 4\"] = data_tmp\n",
    "\n"
   ],
   "metadata": {
    "collapsed": false,
    "pycharm": {
     "name": "#%%\n"
    }
   }
  },
  {
   "cell_type": "code",
   "execution_count": 359,
   "outputs": [],
   "source": [],
   "metadata": {
    "collapsed": false,
    "pycharm": {
     "name": "#%%\n"
    }
   }
  },
  {
   "cell_type": "markdown",
   "source": [],
   "metadata": {
    "collapsed": false
   }
  },
  {
   "cell_type": "markdown",
   "source": [
    "공정 - 불량 데이터가 한열에 있으므로 공정 / 불량으로 나눔. "
   ],
   "metadata": {
    "collapsed": false
   }
  },
  {
   "cell_type": "code",
   "execution_count": 360,
   "outputs": [],
   "source": [
    "data_process_and_loss = data_filtered['Unnamed: 4']\n",
    "data_process_and_loss = data_process_and_loss.tolist()\n",
    "data_filtered= data_filtered.drop('Unnamed: 4',axis = 1)\n",
    "data_filtered = data_filtered.fillna(0)"
   ],
   "metadata": {
    "collapsed": false,
    "pycharm": {
     "name": "#%%\n"
    }
   }
  },
  {
   "cell_type": "code",
   "execution_count": 361,
   "outputs": [],
   "source": [
    "# 사이트별로 공정/ loss 나눠주는 함수.\n",
    "# input -> 공정 list\n",
    "# output -> 공정 / loss / site 열을 갖고있는 Dataframe\n",
    "\n",
    "def site_seperate(data_process_list):\n",
    "    data_process_and_loss = data_process_list\n",
    "    memo = ''\n",
    "    site = ['Ochang', 'ESMI', 'ESNA', 'ESWA', 'ESNB']\n",
    "    ret = pd.DataFrame()\n",
    "    cursor = 0\n",
    "    for data in data_process_and_loss:\n",
    "        data_splited = data.split('-')\n",
    "\n",
    "        # site별로 문자열 형식이 다름.\n",
    "        if len(data_splited) == 2:\n",
    "            process, loss = data_splited\n",
    "\n",
    "        # 공백제거\n",
    "        process = process.strip()\n",
    "        loss = loss.strip()\n",
    "\n",
    "        # 특성측정 후에 나오는 Formation은 다른 site\n",
    "        if ('Formation' in process) and (memo == '특성측정'):\n",
    "            cursor += 1\n",
    "\n",
    "        memo = process\n",
    "        mlist =  site[cursor], '활성화', process, loss\n",
    "\n",
    "\n",
    "\n",
    "        ret = ret.append( pd.DataFrame([mlist]))\n",
    "\n",
    "\n",
    "\n",
    "    return ret\n"
   ],
   "metadata": {
    "collapsed": false,
    "pycharm": {
     "name": "#%%\n"
    }
   }
  },
  {
   "cell_type": "code",
   "execution_count": 361,
   "outputs": [],
   "source": [],
   "metadata": {
    "collapsed": false,
    "pycharm": {
     "name": "#%%\n"
    }
   }
  },
  {
   "cell_type": "code",
   "execution_count": 362,
   "outputs": [],
   "source": [
    "data_temp = site_seperate(data_process_and_loss)\n",
    "\n",
    "\n",
    "# 신규 데이터 처리\n",
    "data_temp.index = [i for i in range(295)]\n",
    "data_temp.columns = ['site','전체공정', '세부공정', '유형']\n",
    "data_filtered['site'] = data_temp.iloc[:, 0]\n",
    "data_filtered['전체공정'] = data_temp.iloc[:, 1]\n",
    "data_filtered['세부공정'] = data_temp.iloc[:, 2]\n",
    "data_filtered['유형'] = data_temp.iloc[:, 3]\n",
    "\n",
    "# 열 순서 변경\n",
    "column_list = data_filtered.columns.values.tolist()\n",
    "column_list = column_list[26:] + column_list[:26]\n",
    "data_filtered = data_filtered[column_list]\n",
    "\n"
   ],
   "metadata": {
    "collapsed": false,
    "pycharm": {
     "name": "#%%\n"
    }
   }
  },
  {
   "cell_type": "code",
   "execution_count": 363,
   "outputs": [],
   "source": [
    "\n",
    "# 월 데이터 처리\n",
    "column_month_list = []\n",
    "for i in range(1,13):\n",
    "    month = [str(i) + '월'] * 2\n",
    "    month[0] += '_%'\n",
    "    month[1] += '_억(원)'\n",
    "\n",
    "    column_month_list += month\n",
    "column_month_list += ['total_%','total_억(원)']\n",
    "\n",
    "# 열이름 최종 업데이트\n",
    "column_list[4:]  = column_month_list\n",
    "data_filtered.columns = column_list\n"
   ],
   "metadata": {
    "collapsed": false,
    "pycharm": {
     "name": "#%%\n"
    }
   }
  },
  {
   "cell_type": "markdown",
   "source": [
    "열 이름 리스트\n",
    "['site', '전체공정', '세부공정', '유형',\n",
    " '1월_%', '1월_억(원)', '2월_%', '2월_억(원)',\n",
    " '3월_%', '3월_억(원)', '4월_%', '4월_억(원)',\n",
    " '5월_%', '5월_억(원)', '6월_%', '6월_억(원)',\n",
    " '7월_%', '7월_억(원)', '8월_%', '8월_억(원)',\n",
    " '9월_%', '9월_억(원)', '10월_%','10월_억(원)',\n",
    " '11월_%', '11월_억(원)', '12월_%', '12월_억(원)',\n",
    " 'total_%', 'total_억(원)']"
   ],
   "metadata": {
    "collapsed": false
   }
  },
  {
   "cell_type": "code",
   "execution_count": 364,
   "outputs": [
    {
     "name": "stderr",
     "output_type": "stream",
     "text": [
      "C:\\ProgramData\\Miniconda3\\envs\\py36\\lib\\site-packages\\ipykernel_launcher.py:19: SettingWithCopyWarning: \n",
      "A value is trying to be set on a copy of a slice from a DataFrame.\n",
      "Try using .loc[row_indexer,col_indexer] = value instead\n",
      "\n",
      "See the caveats in the documentation: https://pandas.pydata.org/pandas-docs/stable/user_guide/indexing.html#returning-a-view-versus-a-copy\n"
     ]
    },
    {
     "data": {
      "text/plain": "       site 전체공정        세부공정               유형      Cost month\n0    Ochang  활성화  Formation1         그리퍼접촉(%)  0.134766    1월\n1    Ochang  활성화  Formation1          충전전압(%)  0.116852    1월\n2    Ochang  활성화  Formation1  (Jig)가압단락 검사(%)  0.164116    1월\n3    Ochang  활성화  Formation1     외관변형 작업불가(%)  0.095756    1월\n4    Ochang  활성화  Formation1        J/F 온도(%)  0.000000    1월\n..      ...  ...         ...              ...       ...   ...\n290    ESNB  활성화        특성측정        Taping(%)  0.149945    7월\n291    ESNB  활성화        특성측정   Sealing  주름(%)  0.000000    7월\n292    ESNB  활성화        특성측정       Cold IR(%)  0.000000    7월\n293    ESNB  활성화        특성측정         절연 저항(%)  0.983421    7월\n294    ESNB  활성화        특성측정        잔존량 불량(%)  0.000000    7월\n\n[2065 rows x 6 columns]",
      "text/html": "<div>\n<style scoped>\n    .dataframe tbody tr th:only-of-type {\n        vertical-align: middle;\n    }\n\n    .dataframe tbody tr th {\n        vertical-align: top;\n    }\n\n    .dataframe thead th {\n        text-align: right;\n    }\n</style>\n<table border=\"1\" class=\"dataframe\">\n  <thead>\n    <tr style=\"text-align: right;\">\n      <th></th>\n      <th>site</th>\n      <th>전체공정</th>\n      <th>세부공정</th>\n      <th>유형</th>\n      <th>Cost</th>\n      <th>month</th>\n    </tr>\n  </thead>\n  <tbody>\n    <tr>\n      <th>0</th>\n      <td>Ochang</td>\n      <td>활성화</td>\n      <td>Formation1</td>\n      <td>그리퍼접촉(%)</td>\n      <td>0.134766</td>\n      <td>1월</td>\n    </tr>\n    <tr>\n      <th>1</th>\n      <td>Ochang</td>\n      <td>활성화</td>\n      <td>Formation1</td>\n      <td>충전전압(%)</td>\n      <td>0.116852</td>\n      <td>1월</td>\n    </tr>\n    <tr>\n      <th>2</th>\n      <td>Ochang</td>\n      <td>활성화</td>\n      <td>Formation1</td>\n      <td>(Jig)가압단락 검사(%)</td>\n      <td>0.164116</td>\n      <td>1월</td>\n    </tr>\n    <tr>\n      <th>3</th>\n      <td>Ochang</td>\n      <td>활성화</td>\n      <td>Formation1</td>\n      <td>외관변형 작업불가(%)</td>\n      <td>0.095756</td>\n      <td>1월</td>\n    </tr>\n    <tr>\n      <th>4</th>\n      <td>Ochang</td>\n      <td>활성화</td>\n      <td>Formation1</td>\n      <td>J/F 온도(%)</td>\n      <td>0.000000</td>\n      <td>1월</td>\n    </tr>\n    <tr>\n      <th>...</th>\n      <td>...</td>\n      <td>...</td>\n      <td>...</td>\n      <td>...</td>\n      <td>...</td>\n      <td>...</td>\n    </tr>\n    <tr>\n      <th>290</th>\n      <td>ESNB</td>\n      <td>활성화</td>\n      <td>특성측정</td>\n      <td>Taping(%)</td>\n      <td>0.149945</td>\n      <td>7월</td>\n    </tr>\n    <tr>\n      <th>291</th>\n      <td>ESNB</td>\n      <td>활성화</td>\n      <td>특성측정</td>\n      <td>Sealing  주름(%)</td>\n      <td>0.000000</td>\n      <td>7월</td>\n    </tr>\n    <tr>\n      <th>292</th>\n      <td>ESNB</td>\n      <td>활성화</td>\n      <td>특성측정</td>\n      <td>Cold IR(%)</td>\n      <td>0.000000</td>\n      <td>7월</td>\n    </tr>\n    <tr>\n      <th>293</th>\n      <td>ESNB</td>\n      <td>활성화</td>\n      <td>특성측정</td>\n      <td>절연 저항(%)</td>\n      <td>0.983421</td>\n      <td>7월</td>\n    </tr>\n    <tr>\n      <th>294</th>\n      <td>ESNB</td>\n      <td>활성화</td>\n      <td>특성측정</td>\n      <td>잔존량 불량(%)</td>\n      <td>0.000000</td>\n      <td>7월</td>\n    </tr>\n  </tbody>\n</table>\n<p>2065 rows × 6 columns</p>\n</div>"
     },
     "execution_count": 364,
     "metadata": {},
     "output_type": "execute_result"
    }
   ],
   "source": [
    "# 필요 칼럼만 수집.\n",
    "\n",
    "data_filtered = data_filtered.loc[:, ['site', '전체공정', '세부공정', '유형',\n",
    "                                      '1월_억(원)', '2월_억(원)', '3월_억(원)',\n",
    "                                      '4월_억(원)', '5월_억(원)', '6월_억(원)',\n",
    "                                      '7월_억(원)', '8월_억(원)', '9월_억(원)',\n",
    "                                      '10월_억(원)', '11월_억(원)', '12월_억(원)', 'total_억(원)']]\n",
    "\n",
    "\n",
    "\n",
    "data_final = pd.DataFrame()\n",
    "\n",
    "for i in range(4,11):\n",
    "    data_tmp = data_filtered.iloc[:,[0, 1, 2, 3, i]]\n",
    "    column_name = data_tmp.columns.values.tolist()\n",
    "\n",
    "    column_name[4] = 'Cost'\n",
    "    data_tmp.columns = column_name\n",
    "    data_tmp['month'] = str(i-3) + '월'\n",
    "\n",
    "    data_final = pd.concat([data_final, data_tmp])\n",
    "\n",
    "data_final.to_csv('output/활성화.csv', index= False, encoding='UTF-8-sig')\n",
    "data_final"
   ],
   "metadata": {
    "collapsed": false,
    "pycharm": {
     "name": "#%%\n"
    }
   }
  }
 ],
 "metadata": {
  "kernelspec": {
   "name": "lab_kernel",
   "language": "python",
   "display_name": "lab_kernel"
  },
  "language_info": {
   "codemirror_mode": {
    "name": "ipython",
    "version": 2
   },
   "file_extension": ".py",
   "mimetype": "text/x-python",
   "name": "python",
   "nbconvert_exporter": "python",
   "pygments_lexer": "ipython2",
   "version": "2.7.6"
  }
 },
 "nbformat": 4,
 "nbformat_minor": 0
}