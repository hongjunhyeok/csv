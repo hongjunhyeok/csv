{
 "cells": [
  {
   "cell_type": "code",
   "execution_count": 85,
   "id": "e5fdbbf0",
   "metadata": {},
   "outputs": [
    {
     "data": {
      "text/plain": "'D:\\\\jupyter'"
     },
     "execution_count": 85,
     "metadata": {},
     "output_type": "execute_result"
    }
   ],
   "source": [
    "import os\n",
    "os.getcwd()"
   ]
  },
  {
   "cell_type": "code",
   "execution_count": 86,
   "id": "eddcf1cd",
   "metadata": {},
   "outputs": [
    {
     "data": {
      "text/plain": "         Unnamed: 0          Unnamed: 1 Unnamed: 2                 Unnamed: 3  \\\n0               NaN  ■법인별 주요 불량/Loss 구분        NaN                        NaN   \n1               NaN                 NaN        NaN                        NaN   \n2               NaN                  구분        NaN                        NaN   \n3               NaN                 NaN        NaN                        NaN   \n4               NaN             자동차\\n조립       Site                         호기   \n5               NaN                 NaN        NaN                        NaN   \n6               NaN                 NaN         오창  2,3,4,5,7,8,\\n10,11,13,14   \n7               NaN                 NaN        NaN                        NaN   \n8               NaN                 NaN        NaN                        NaN   \n9   41.전공정 Loss(불량)                 NaN        NaN                        NaN   \n10  41.전공정 Loss(불량)                 NaN        NaN                        NaN   \n11  41.전공정 Loss(불량)                 NaN        NaN                        NaN   \n12  41.전공정 Loss(불량)                 NaN        NaN                        NaN   \n13              NaN                 NaN        NaN                        NaN   \n14            SHORT                 NaN        NaN                        NaN   \n15            SHORT                 NaN        NaN                        NaN   \n16            SHORT                 NaN        NaN                        NaN   \n17              NaN                 NaN        NaN                        NaN   \n18               위치                 NaN        NaN                        NaN   \n19               위치                 NaN        NaN                        NaN   \n\n           Unnamed: 4    Unnamed: 5 Unnamed: 6          Unnamed: 7  \\\n0                 NaN           NaN        NaN                 NaN   \n1                 NaN           NaN        NaN                 NaN   \n2                 NaN           NaN        NaN                 NaN   \n3                 NaN           NaN        NaN                 NaN   \n4          불량/Loss 구분           NaN        NaN                 NaN   \n5                 NaN           NaN        NaN                 NaN   \n6   조립 Total(불량+Loss)           NaN        NaN                 NaN   \n7                 NaN  조립 Total(불량)        NaN                 NaN   \n8                 NaN           NaN   전공정 Loss                 NaN   \n9                 NaN           NaN   전공정 Loss            Notching   \n10                NaN           NaN   전공정 Loss          Lamination   \n11                NaN           NaN   전공정 Loss  Stacking & Folding   \n12                NaN           NaN   전공정 Loss           Packaging   \n13                NaN           NaN      쇼트 불량                 NaN   \n14                NaN           NaN      쇼트 불량          Lamination   \n15                NaN           NaN      쇼트 불량  Stacking & Folding   \n16                NaN           NaN      쇼트 불량           Packaging   \n17                NaN           NaN      위치 불량                 NaN   \n18                NaN           NaN      위치 불량          Lamination   \n19                NaN           NaN      위치 불량           Packaging   \n\n     Unnamed: 8    Unnamed: 9  ... Unnamed: 24   Unnamed: 25 Unnamed: 26  \\\n0           NaN           NaN  ...         NaN           NaN         NaN   \n1           NaN           NaN  ...         NaN           NaN         NaN   \n2           21년           NaN  ...         NaN           NaN         NaN   \n3            1월           NaN  ...          9월           NaN         10월   \n4        율\\n(%)  공정손실\\n비용(억원)  ...      율\\n(%)  공정손실\\n비용(억원)      율\\n(%)   \n5           NaN           NaN  ...         NaN           NaN         NaN   \n6     0.0501543       32.8234  ...         NaN           NaN         NaN   \n7     0.0232808       16.7276  ...         NaN           NaN         NaN   \n8   0.000944428      0.463282  ...         NaN           NaN         NaN   \n9             0             0  ...         NaN           NaN         NaN   \n10  0.000542124      0.211953  ...         NaN           NaN         NaN   \n11   0.00021197      0.152065  ...         NaN           NaN         NaN   \n12  0.000190334     0.0992647  ...         NaN           NaN         NaN   \n13   0.00201921       1.68347  ...         NaN           NaN         NaN   \n14   0.00100503      0.594672  ...         NaN           NaN         NaN   \n15  3.16638e-05      0.129263  ...         NaN           NaN         NaN   \n16  0.000982513       0.95953  ...         NaN           NaN         NaN   \n17   0.00741724       4.90173  ...         NaN           NaN         NaN   \n18   0.00608965       3.91798  ...         NaN           NaN         NaN   \n19   0.00132759      0.983756  ...         NaN           NaN         NaN   \n\n     Unnamed: 27 Unnamed: 28   Unnamed: 29 Unnamed: 30   Unnamed: 31  \\\n0            NaN         NaN           NaN         NaN           NaN   \n1            NaN         NaN           NaN         NaN           NaN   \n2            NaN         NaN           NaN         NaN           NaN   \n3            NaN         11월           NaN         12월           NaN   \n4   공정손실\\n비용(억원)      율\\n(%)  공정손실\\n비용(억원)      율\\n(%)  공정손실\\n비용(억원)   \n5            NaN         NaN           NaN         NaN           NaN   \n6            NaN         NaN           NaN         NaN           NaN   \n7            NaN         NaN           NaN         NaN           NaN   \n8            NaN         NaN           NaN         NaN           NaN   \n9            NaN         NaN           NaN         NaN           NaN   \n10           NaN         NaN           NaN         NaN           NaN   \n11           NaN         NaN           NaN         NaN           NaN   \n12           NaN         NaN           NaN         NaN           NaN   \n13           NaN         NaN           NaN         NaN           NaN   \n14           NaN         NaN           NaN         NaN           NaN   \n15           NaN         NaN           NaN         NaN           NaN   \n16           NaN         NaN           NaN         NaN           NaN   \n17           NaN         NaN           NaN         NaN           NaN   \n18           NaN         NaN           NaN         NaN           NaN   \n19           NaN         NaN           NaN         NaN           NaN   \n\n   Unnamed: 32   Unnamed: 33  \n0          NaN           NaN  \n1          NaN           NaN  \n2          NaN           NaN  \n3    21年 Total           NaN  \n4       율\\n(%)  공정손실\\n비용(억원)  \n5          NaN           NaN  \n6          NaN       214.728  \n7          NaN        122.13  \n8          NaN        11.728  \n9          NaN     0.0476042  \n10         NaN       2.56026  \n11         NaN       5.71864  \n12         NaN       3.40147  \n13         NaN       1.93163  \n14         NaN       3.25072  \n15         NaN       -6.8511  \n16         NaN         5.532  \n17         NaN       29.8816  \n18         NaN       23.8428  \n19         NaN       6.03881  \n\n[20 rows x 34 columns]",
      "text/html": "<div>\n<style scoped>\n    .dataframe tbody tr th:only-of-type {\n        vertical-align: middle;\n    }\n\n    .dataframe tbody tr th {\n        vertical-align: top;\n    }\n\n    .dataframe thead th {\n        text-align: right;\n    }\n</style>\n<table border=\"1\" class=\"dataframe\">\n  <thead>\n    <tr style=\"text-align: right;\">\n      <th></th>\n      <th>Unnamed: 0</th>\n      <th>Unnamed: 1</th>\n      <th>Unnamed: 2</th>\n      <th>Unnamed: 3</th>\n      <th>Unnamed: 4</th>\n      <th>Unnamed: 5</th>\n      <th>Unnamed: 6</th>\n      <th>Unnamed: 7</th>\n      <th>Unnamed: 8</th>\n      <th>Unnamed: 9</th>\n      <th>...</th>\n      <th>Unnamed: 24</th>\n      <th>Unnamed: 25</th>\n      <th>Unnamed: 26</th>\n      <th>Unnamed: 27</th>\n      <th>Unnamed: 28</th>\n      <th>Unnamed: 29</th>\n      <th>Unnamed: 30</th>\n      <th>Unnamed: 31</th>\n      <th>Unnamed: 32</th>\n      <th>Unnamed: 33</th>\n    </tr>\n  </thead>\n  <tbody>\n    <tr>\n      <th>0</th>\n      <td>NaN</td>\n      <td>■법인별 주요 불량/Loss 구분</td>\n      <td>NaN</td>\n      <td>NaN</td>\n      <td>NaN</td>\n      <td>NaN</td>\n      <td>NaN</td>\n      <td>NaN</td>\n      <td>NaN</td>\n      <td>NaN</td>\n      <td>...</td>\n      <td>NaN</td>\n      <td>NaN</td>\n      <td>NaN</td>\n      <td>NaN</td>\n      <td>NaN</td>\n      <td>NaN</td>\n      <td>NaN</td>\n      <td>NaN</td>\n      <td>NaN</td>\n      <td>NaN</td>\n    </tr>\n    <tr>\n      <th>1</th>\n      <td>NaN</td>\n      <td>NaN</td>\n      <td>NaN</td>\n      <td>NaN</td>\n      <td>NaN</td>\n      <td>NaN</td>\n      <td>NaN</td>\n      <td>NaN</td>\n      <td>NaN</td>\n      <td>NaN</td>\n      <td>...</td>\n      <td>NaN</td>\n      <td>NaN</td>\n      <td>NaN</td>\n      <td>NaN</td>\n      <td>NaN</td>\n      <td>NaN</td>\n      <td>NaN</td>\n      <td>NaN</td>\n      <td>NaN</td>\n      <td>NaN</td>\n    </tr>\n    <tr>\n      <th>2</th>\n      <td>NaN</td>\n      <td>구분</td>\n      <td>NaN</td>\n      <td>NaN</td>\n      <td>NaN</td>\n      <td>NaN</td>\n      <td>NaN</td>\n      <td>NaN</td>\n      <td>21년</td>\n      <td>NaN</td>\n      <td>...</td>\n      <td>NaN</td>\n      <td>NaN</td>\n      <td>NaN</td>\n      <td>NaN</td>\n      <td>NaN</td>\n      <td>NaN</td>\n      <td>NaN</td>\n      <td>NaN</td>\n      <td>NaN</td>\n      <td>NaN</td>\n    </tr>\n    <tr>\n      <th>3</th>\n      <td>NaN</td>\n      <td>NaN</td>\n      <td>NaN</td>\n      <td>NaN</td>\n      <td>NaN</td>\n      <td>NaN</td>\n      <td>NaN</td>\n      <td>NaN</td>\n      <td>1월</td>\n      <td>NaN</td>\n      <td>...</td>\n      <td>9월</td>\n      <td>NaN</td>\n      <td>10월</td>\n      <td>NaN</td>\n      <td>11월</td>\n      <td>NaN</td>\n      <td>12월</td>\n      <td>NaN</td>\n      <td>21年 Total</td>\n      <td>NaN</td>\n    </tr>\n    <tr>\n      <th>4</th>\n      <td>NaN</td>\n      <td>자동차\\n조립</td>\n      <td>Site</td>\n      <td>호기</td>\n      <td>불량/Loss 구분</td>\n      <td>NaN</td>\n      <td>NaN</td>\n      <td>NaN</td>\n      <td>율\\n(%)</td>\n      <td>공정손실\\n비용(억원)</td>\n      <td>...</td>\n      <td>율\\n(%)</td>\n      <td>공정손실\\n비용(억원)</td>\n      <td>율\\n(%)</td>\n      <td>공정손실\\n비용(억원)</td>\n      <td>율\\n(%)</td>\n      <td>공정손실\\n비용(억원)</td>\n      <td>율\\n(%)</td>\n      <td>공정손실\\n비용(억원)</td>\n      <td>율\\n(%)</td>\n      <td>공정손실\\n비용(억원)</td>\n    </tr>\n    <tr>\n      <th>5</th>\n      <td>NaN</td>\n      <td>NaN</td>\n      <td>NaN</td>\n      <td>NaN</td>\n      <td>NaN</td>\n      <td>NaN</td>\n      <td>NaN</td>\n      <td>NaN</td>\n      <td>NaN</td>\n      <td>NaN</td>\n      <td>...</td>\n      <td>NaN</td>\n      <td>NaN</td>\n      <td>NaN</td>\n      <td>NaN</td>\n      <td>NaN</td>\n      <td>NaN</td>\n      <td>NaN</td>\n      <td>NaN</td>\n      <td>NaN</td>\n      <td>NaN</td>\n    </tr>\n    <tr>\n      <th>6</th>\n      <td>NaN</td>\n      <td>NaN</td>\n      <td>오창</td>\n      <td>2,3,4,5,7,8,\\n10,11,13,14</td>\n      <td>조립 Total(불량+Loss)</td>\n      <td>NaN</td>\n      <td>NaN</td>\n      <td>NaN</td>\n      <td>0.0501543</td>\n      <td>32.8234</td>\n      <td>...</td>\n      <td>NaN</td>\n      <td>NaN</td>\n      <td>NaN</td>\n      <td>NaN</td>\n      <td>NaN</td>\n      <td>NaN</td>\n      <td>NaN</td>\n      <td>NaN</td>\n      <td>NaN</td>\n      <td>214.728</td>\n    </tr>\n    <tr>\n      <th>7</th>\n      <td>NaN</td>\n      <td>NaN</td>\n      <td>NaN</td>\n      <td>NaN</td>\n      <td>NaN</td>\n      <td>조립 Total(불량)</td>\n      <td>NaN</td>\n      <td>NaN</td>\n      <td>0.0232808</td>\n      <td>16.7276</td>\n      <td>...</td>\n      <td>NaN</td>\n      <td>NaN</td>\n      <td>NaN</td>\n      <td>NaN</td>\n      <td>NaN</td>\n      <td>NaN</td>\n      <td>NaN</td>\n      <td>NaN</td>\n      <td>NaN</td>\n      <td>122.13</td>\n    </tr>\n    <tr>\n      <th>8</th>\n      <td>NaN</td>\n      <td>NaN</td>\n      <td>NaN</td>\n      <td>NaN</td>\n      <td>NaN</td>\n      <td>NaN</td>\n      <td>전공정 Loss</td>\n      <td>NaN</td>\n      <td>0.000944428</td>\n      <td>0.463282</td>\n      <td>...</td>\n      <td>NaN</td>\n      <td>NaN</td>\n      <td>NaN</td>\n      <td>NaN</td>\n      <td>NaN</td>\n      <td>NaN</td>\n      <td>NaN</td>\n      <td>NaN</td>\n      <td>NaN</td>\n      <td>11.728</td>\n    </tr>\n    <tr>\n      <th>9</th>\n      <td>41.전공정 Loss(불량)</td>\n      <td>NaN</td>\n      <td>NaN</td>\n      <td>NaN</td>\n      <td>NaN</td>\n      <td>NaN</td>\n      <td>전공정 Loss</td>\n      <td>Notching</td>\n      <td>0</td>\n      <td>0</td>\n      <td>...</td>\n      <td>NaN</td>\n      <td>NaN</td>\n      <td>NaN</td>\n      <td>NaN</td>\n      <td>NaN</td>\n      <td>NaN</td>\n      <td>NaN</td>\n      <td>NaN</td>\n      <td>NaN</td>\n      <td>0.0476042</td>\n    </tr>\n    <tr>\n      <th>10</th>\n      <td>41.전공정 Loss(불량)</td>\n      <td>NaN</td>\n      <td>NaN</td>\n      <td>NaN</td>\n      <td>NaN</td>\n      <td>NaN</td>\n      <td>전공정 Loss</td>\n      <td>Lamination</td>\n      <td>0.000542124</td>\n      <td>0.211953</td>\n      <td>...</td>\n      <td>NaN</td>\n      <td>NaN</td>\n      <td>NaN</td>\n      <td>NaN</td>\n      <td>NaN</td>\n      <td>NaN</td>\n      <td>NaN</td>\n      <td>NaN</td>\n      <td>NaN</td>\n      <td>2.56026</td>\n    </tr>\n    <tr>\n      <th>11</th>\n      <td>41.전공정 Loss(불량)</td>\n      <td>NaN</td>\n      <td>NaN</td>\n      <td>NaN</td>\n      <td>NaN</td>\n      <td>NaN</td>\n      <td>전공정 Loss</td>\n      <td>Stacking &amp; Folding</td>\n      <td>0.00021197</td>\n      <td>0.152065</td>\n      <td>...</td>\n      <td>NaN</td>\n      <td>NaN</td>\n      <td>NaN</td>\n      <td>NaN</td>\n      <td>NaN</td>\n      <td>NaN</td>\n      <td>NaN</td>\n      <td>NaN</td>\n      <td>NaN</td>\n      <td>5.71864</td>\n    </tr>\n    <tr>\n      <th>12</th>\n      <td>41.전공정 Loss(불량)</td>\n      <td>NaN</td>\n      <td>NaN</td>\n      <td>NaN</td>\n      <td>NaN</td>\n      <td>NaN</td>\n      <td>전공정 Loss</td>\n      <td>Packaging</td>\n      <td>0.000190334</td>\n      <td>0.0992647</td>\n      <td>...</td>\n      <td>NaN</td>\n      <td>NaN</td>\n      <td>NaN</td>\n      <td>NaN</td>\n      <td>NaN</td>\n      <td>NaN</td>\n      <td>NaN</td>\n      <td>NaN</td>\n      <td>NaN</td>\n      <td>3.40147</td>\n    </tr>\n    <tr>\n      <th>13</th>\n      <td>NaN</td>\n      <td>NaN</td>\n      <td>NaN</td>\n      <td>NaN</td>\n      <td>NaN</td>\n      <td>NaN</td>\n      <td>쇼트 불량</td>\n      <td>NaN</td>\n      <td>0.00201921</td>\n      <td>1.68347</td>\n      <td>...</td>\n      <td>NaN</td>\n      <td>NaN</td>\n      <td>NaN</td>\n      <td>NaN</td>\n      <td>NaN</td>\n      <td>NaN</td>\n      <td>NaN</td>\n      <td>NaN</td>\n      <td>NaN</td>\n      <td>1.93163</td>\n    </tr>\n    <tr>\n      <th>14</th>\n      <td>SHORT</td>\n      <td>NaN</td>\n      <td>NaN</td>\n      <td>NaN</td>\n      <td>NaN</td>\n      <td>NaN</td>\n      <td>쇼트 불량</td>\n      <td>Lamination</td>\n      <td>0.00100503</td>\n      <td>0.594672</td>\n      <td>...</td>\n      <td>NaN</td>\n      <td>NaN</td>\n      <td>NaN</td>\n      <td>NaN</td>\n      <td>NaN</td>\n      <td>NaN</td>\n      <td>NaN</td>\n      <td>NaN</td>\n      <td>NaN</td>\n      <td>3.25072</td>\n    </tr>\n    <tr>\n      <th>15</th>\n      <td>SHORT</td>\n      <td>NaN</td>\n      <td>NaN</td>\n      <td>NaN</td>\n      <td>NaN</td>\n      <td>NaN</td>\n      <td>쇼트 불량</td>\n      <td>Stacking &amp; Folding</td>\n      <td>3.16638e-05</td>\n      <td>0.129263</td>\n      <td>...</td>\n      <td>NaN</td>\n      <td>NaN</td>\n      <td>NaN</td>\n      <td>NaN</td>\n      <td>NaN</td>\n      <td>NaN</td>\n      <td>NaN</td>\n      <td>NaN</td>\n      <td>NaN</td>\n      <td>-6.8511</td>\n    </tr>\n    <tr>\n      <th>16</th>\n      <td>SHORT</td>\n      <td>NaN</td>\n      <td>NaN</td>\n      <td>NaN</td>\n      <td>NaN</td>\n      <td>NaN</td>\n      <td>쇼트 불량</td>\n      <td>Packaging</td>\n      <td>0.000982513</td>\n      <td>0.95953</td>\n      <td>...</td>\n      <td>NaN</td>\n      <td>NaN</td>\n      <td>NaN</td>\n      <td>NaN</td>\n      <td>NaN</td>\n      <td>NaN</td>\n      <td>NaN</td>\n      <td>NaN</td>\n      <td>NaN</td>\n      <td>5.532</td>\n    </tr>\n    <tr>\n      <th>17</th>\n      <td>NaN</td>\n      <td>NaN</td>\n      <td>NaN</td>\n      <td>NaN</td>\n      <td>NaN</td>\n      <td>NaN</td>\n      <td>위치 불량</td>\n      <td>NaN</td>\n      <td>0.00741724</td>\n      <td>4.90173</td>\n      <td>...</td>\n      <td>NaN</td>\n      <td>NaN</td>\n      <td>NaN</td>\n      <td>NaN</td>\n      <td>NaN</td>\n      <td>NaN</td>\n      <td>NaN</td>\n      <td>NaN</td>\n      <td>NaN</td>\n      <td>29.8816</td>\n    </tr>\n    <tr>\n      <th>18</th>\n      <td>위치</td>\n      <td>NaN</td>\n      <td>NaN</td>\n      <td>NaN</td>\n      <td>NaN</td>\n      <td>NaN</td>\n      <td>위치 불량</td>\n      <td>Lamination</td>\n      <td>0.00608965</td>\n      <td>3.91798</td>\n      <td>...</td>\n      <td>NaN</td>\n      <td>NaN</td>\n      <td>NaN</td>\n      <td>NaN</td>\n      <td>NaN</td>\n      <td>NaN</td>\n      <td>NaN</td>\n      <td>NaN</td>\n      <td>NaN</td>\n      <td>23.8428</td>\n    </tr>\n    <tr>\n      <th>19</th>\n      <td>위치</td>\n      <td>NaN</td>\n      <td>NaN</td>\n      <td>NaN</td>\n      <td>NaN</td>\n      <td>NaN</td>\n      <td>위치 불량</td>\n      <td>Packaging</td>\n      <td>0.00132759</td>\n      <td>0.983756</td>\n      <td>...</td>\n      <td>NaN</td>\n      <td>NaN</td>\n      <td>NaN</td>\n      <td>NaN</td>\n      <td>NaN</td>\n      <td>NaN</td>\n      <td>NaN</td>\n      <td>NaN</td>\n      <td>NaN</td>\n      <td>6.03881</td>\n    </tr>\n  </tbody>\n</table>\n<p>20 rows × 34 columns</p>\n</div>"
     },
     "execution_count": 86,
     "metadata": {},
     "output_type": "execute_result"
    }
   ],
   "source": [
    "import pandas as pd\n",
    "data_electrode = pd.read_excel('data/excel_data.xlsx',sheet_name = 1)\n",
    "data_assembly =  pd.read_excel('data/excel_data.xlsx',sheet_name = 3)\n",
    "\n",
    "data_electrode.head(20)\n",
    "data_assembly.head(20)\n",
    "\n"
   ]
  },
  {
   "cell_type": "code",
   "execution_count": 87,
   "outputs": [],
   "source": [
    "# NA 값을 가진 데이터를 drop하고 array로 만듬. / Unnnamed: 7 --> 세부공정관련\n",
    "data_electrode_process_array = data_electrode[\"Unnamed: 7\"].dropna()\n",
    "data_assembly_process_array  = data_assembly[\"Unnamed: 7\"].dropna()\n",
    "\n",
    "# 유효한 데이터만을 갖고있는 array의 index를 추출\n",
    "electrode_process_index = data_electrode_process_array.index\n",
    "assembly_process_index  = data_assembly_process_array.index\n",
    "\n",
    "# 유효한 index를 가진 부분만 전체 데이터에서 가져옴.\n",
    "data_electrode_filtered = data_electrode.loc[electrode_process_index, :]\n",
    "data_assembly_filtered  = data_assembly.loc[assembly_process_index, :]\n",
    "\n",
    "# 필요없는 데이터 제거\n",
    "del data_assembly_process_array, data_electrode_process_array\n",
    "del electrode_process_index, assembly_process_index\n",
    "del data_assembly, data_electrode"
   ],
   "metadata": {
    "collapsed": false,
    "pycharm": {
     "name": "#%%\n"
    }
   }
  },
  {
   "cell_type": "code",
   "execution_count": 88,
   "outputs": [],
   "source": [
    "# NA 값을 가진 데이터를 drop하고 array로 만듬. / Unnnamed: 8 --> 로스비용관련\n",
    "electrode_cost_array = data_electrode_filtered[\"Unnamed: 8\"].dropna()\n",
    "assembly_cost_array = data_assembly_filtered[\"Unnamed: 8\"].dropna()\n",
    "\n",
    "# 유효한 데이터만을 갖고있는 array의 index를 추출\n",
    "electrode_cost_index = electrode_cost_array.index\n",
    "assembly_cost_index  = assembly_cost_array.index\n",
    "\n",
    "# 유효한 index를 가진 부분만 전체 데이터에서 가져옴.\n",
    "data_electrode_filtered = data_electrode_filtered.loc[electrode_cost_index, :]\n",
    "data_assembly_filtered = data_assembly_filtered.loc[assembly_cost_index, :]\n",
    "\n",
    "# 필요없는 데이터 제거\n",
    "del electrode_cost_array, assembly_cost_array\n",
    "del electrode_cost_index, assembly_cost_index"
   ],
   "metadata": {
    "collapsed": false,
    "pycharm": {
     "name": "#%%\n"
    }
   }
  },
  {
   "cell_type": "code",
   "execution_count": 89,
   "outputs": [],
   "source": [
    "# column을 나누기 위해 리스트로 받음\n",
    "electrode_column_list = data_electrode_filtered.columns.values.tolist()\n",
    "assembly_column_list = data_assembly_filtered.columns.values.tolist()\n",
    "\n",
    "# 칼럼 앞부분 NA 처리\n",
    "data_electrode_filtered = data_electrode_filtered.drop(labels= electrode_column_list[0:6], axis = 1)\n",
    "data_assembly_filtered  = data_assembly_filtered.drop(labels= assembly_column_list[0:6], axis =1)\n",
    "\n",
    "# NA로 비워진 인덱스 정리\n",
    "data_electrode_filtered = data_electrode_filtered.reset_index()\n",
    "data_electrode_filtered = data_electrode_filtered.drop(labels = 'index', axis = 1)\n",
    "data_assembly_filtered = data_assembly_filtered.reset_index()\n",
    "data_assembly_filtered = data_assembly_filtered.drop(labels= 'index', axis = 1)\n",
    "\n",
    "# 중복되는 N 계산\n",
    "\n",
    "_NUM_SITE = 5\n",
    "electrode_row_length = len(data_electrode_filtered)\n",
    "assembly_row_length = len(data_assembly_filtered)\n",
    "elec_row_n = int(electrode_row_length / _NUM_SITE)\n",
    "assm_row_n = int(assembly_row_length / _NUM_SITE)\n",
    "\n",
    "# site 행 생성용 열\n",
    "electrode_site_row =   [\"오창\"] *  elec_row_n\\\n",
    "                     + [\"ESMI\"] * elec_row_n \\\n",
    "                     + [\"ESNA\"] * elec_row_n \\\n",
    "                     + [\"ESWA\"] * elec_row_n \\\n",
    "                     + [\"ESNB\"] * elec_row_n\n",
    "\n",
    "assembly_site_row=      [\"오창\"] * assm_row_n\\\n",
    "                     + [\"ESMI\"] * assm_row_n \\\n",
    "                     + [\"ESNA\"] * assm_row_n \\\n",
    "                     + [\"ESWA\"] * assm_row_n \\\n",
    "                     + [\"ESNB\"] * assm_row_n\n",
    "\n",
    "# 기존데이터에 행 삽입\n",
    "data_electrode_filtered['site'] = electrode_site_row\n",
    "data_assembly_filtered['site'] = assembly_site_row\n",
    "data_electrode_filtered['전체공정'] = ['전극'] * electrode_row_length\n",
    "data_assembly_filtered['전체공정'] = ['조립'] * assembly_row_length\n",
    "\n",
    "# 사용된 데이터 제거\n",
    "del electrode_row_length, assembly_row_length\n",
    "del electrode_site_row, assembly_site_row"
   ],
   "metadata": {
    "collapsed": false,
    "pycharm": {
     "name": "#%%\n"
    }
   }
  },
  {
   "cell_type": "code",
   "execution_count": 90,
   "outputs": [],
   "source": [
    "# 트러블 행 생성용 열\n",
    "electrode_trouble_type_row = ['불량'] * int(elec_row_n/2) + ['Loss'] * int(elec_row_n/2)\n",
    "assembly_trouble_type_row  = ['불량'] * int(assm_row_n/2) + ['Loss'] * int(assm_row_n/2)\n",
    "electrode_trouble_type_row *= 5\n",
    "assembly_trouble_type_row *= 5\n",
    "\n",
    "# 기존데이터에 행 삽입\n",
    "data_electrode_filtered['type'] = electrode_trouble_type_row\n",
    "data_assembly_filtered['type'] = assembly_trouble_type_row\n",
    "\n",
    "\n",
    "\n",
    "# 행순서 변경하기 위한  행목록 리스트 생성\n",
    "data_electrode_column_list = data_electrode_filtered.columns.values.tolist()\n",
    "data_assembly_column_list = data_assembly_filtered.columns.values.tolist()\n",
    "\n",
    "# 리스트 순서 변경 : (칼럼 순서 변경하기 위한 코드 --> 입맛에 맞춰서 변경)\n",
    "data_electrode_column_list = data_electrode_column_list[28:30]  +[data_electrode_column_list[0]] + data_electrode_column_list[1:28]\n",
    "data_assembly_column_list = data_assembly_column_list[28:30] + [data_assembly_column_list[0]]  + data_assembly_column_list[1:28]\n",
    "\n",
    "tmp = data_electrode_filtered.iloc[:,0]\n",
    "data_electrode_filtered.iloc[:, 0] = data_electrode_filtered.iloc[:, 1]\n",
    "data_electrode_filtered.iloc[:, 1] = tmp\n",
    "\n",
    "tmp = data_assembly_filtered.iloc[:,0]\n",
    "data_assembly_filtered.iloc[:, 0] = data_assembly_filtered.iloc[:, 1]\n",
    "data_assembly_filtered.iloc[:, 1] = tmp\n",
    "\n",
    "# 새로운 순서 리스트로 기존 데이터 변경\n",
    "data_electrode_filtered = data_electrode_filtered[data_electrode_column_list]\n",
    "data_assembly_filtered = data_assembly_filtered[data_assembly_column_list]\n"
   ],
   "metadata": {
    "collapsed": false,
    "pycharm": {
     "name": "#%%\n"
    }
   }
  },
  {
   "cell_type": "markdown",
   "source": [
    "## 월 데이터 생성"
   ],
   "metadata": {
    "collapsed": false,
    "pycharm": {
     "name": "#%% md\n"
    }
   }
  },
  {
   "cell_type": "code",
   "execution_count": 91,
   "outputs": [
    {
     "data": {
      "text/plain": "     site 전체공정                세부공정        유형         1월_%    1월_억(원)  \\\n0      오창   조립            Notching  전공정 Loss            0          0   \n1      오창   조립          Lamination  전공정 Loss  0.000542124   0.211953   \n2      오창   조립  Stacking & Folding  전공정 Loss   0.00021197   0.152065   \n3      오창   조립           Packaging  전공정 Loss  0.000190334  0.0992647   \n4      오창   조립          Lamination     쇼트 불량   0.00100503   0.594672   \n..    ...  ...                 ...       ...          ...        ...   \n145  ESNB   조립  Stacking & Folding   연결 Loss  0.000343731   0.298295   \n146  ESNB   조립            Notching   기타 Loss   0.00330698    1.71921   \n147  ESNB   조립          Lamination   기타 Loss  0.000559688  0.0588663   \n148  ESNB   조립  Stacking & Folding   기타 Loss  0.000454514 -0.0738974   \n149  ESNB   조립           Packaging   기타 Loss  0.000376195 -0.0192828   \n\n            2월_%    2월_억(원)         3월_%     3월_억(원)         4월_%     4월_억(원)  \\\n0    8.34131e-05  0.0158841  2.55027e-06  0.00118855  5.32804e-06  0.00462325   \n1     0.00083324   0.359924   0.00131798    0.575818   0.00153434     0.59182   \n2    0.000836421   0.284675  0.000271832    0.137687   0.00102157    0.748346   \n3    0.000559755   0.390695  0.000563035    0.468659  0.000724782    0.576917   \n4    0.000890026   0.467159  0.000951394    0.531379  0.000825241     0.43944   \n..           ...        ...          ...         ...          ...         ...   \n145  0.000288144   0.280934  0.000227056    0.164485  0.000252956    0.227604   \n146   0.00313649    1.62094   0.00343944      1.6283   0.00469243     2.90893   \n147  0.000553328  0.0942241  0.000549072     0.06053  0.000405887   0.0280078   \n148   0.00340916    1.39591   0.00124337    0.396872  0.000437401   0.0966162   \n149  0.000385662  -0.018903  0.000310128  -0.0764545 -1.32938e-05  -0.0586706   \n\n            5월_%    5월_억(원)         6월_%    6월_억(원)         7월_%     7월_억(원)  \\\n0    2.08049e-05  0.0116917  1.94736e-05  0.0101168    5.609e-06  0.00409973   \n1    0.000340247   0.151624  0.000247458   0.127273   0.00109724    0.541852   \n2    0.000975293   0.577938   0.00254303    1.55018   0.00366251     2.26774   \n3    0.000813645   0.474201   0.00101575    0.78033  0.000850697    0.611403   \n4    0.000860724   0.465789  0.000706477   0.396216  0.000652539    0.356062   \n..           ...        ...          ...        ...          ...         ...   \n145  0.000221577   0.260083  0.000272291   0.265166  0.000189675    0.198434   \n146   0.00418239    3.03021   0.00363964    2.51005   0.00396518      2.8303   \n147  0.000244811  0.0153851  0.000265417  0.0124977  0.000358622   0.0750536   \n148  -3.2102e-05  -0.114944  6.73567e-05 -0.0355788  0.000168372   0.0760957   \n149 -5.30342e-05 -0.0671512 -0.000152057  -0.172192 -0.000160181   -0.169754   \n\n    total_억(원)  \n0    0.0476042  \n1      2.56026  \n2      5.71864  \n3      3.40147  \n4      3.25072  \n..         ...  \n145      1.695  \n146    16.2479  \n147   0.344565  \n148    1.74107  \n149  -0.582408  \n\n[150 rows x 19 columns]",
      "text/html": "<div>\n<style scoped>\n    .dataframe tbody tr th:only-of-type {\n        vertical-align: middle;\n    }\n\n    .dataframe tbody tr th {\n        vertical-align: top;\n    }\n\n    .dataframe thead th {\n        text-align: right;\n    }\n</style>\n<table border=\"1\" class=\"dataframe\">\n  <thead>\n    <tr style=\"text-align: right;\">\n      <th></th>\n      <th>site</th>\n      <th>전체공정</th>\n      <th>세부공정</th>\n      <th>유형</th>\n      <th>1월_%</th>\n      <th>1월_억(원)</th>\n      <th>2월_%</th>\n      <th>2월_억(원)</th>\n      <th>3월_%</th>\n      <th>3월_억(원)</th>\n      <th>4월_%</th>\n      <th>4월_억(원)</th>\n      <th>5월_%</th>\n      <th>5월_억(원)</th>\n      <th>6월_%</th>\n      <th>6월_억(원)</th>\n      <th>7월_%</th>\n      <th>7월_억(원)</th>\n      <th>total_억(원)</th>\n    </tr>\n  </thead>\n  <tbody>\n    <tr>\n      <th>0</th>\n      <td>오창</td>\n      <td>조립</td>\n      <td>Notching</td>\n      <td>전공정 Loss</td>\n      <td>0</td>\n      <td>0</td>\n      <td>8.34131e-05</td>\n      <td>0.0158841</td>\n      <td>2.55027e-06</td>\n      <td>0.00118855</td>\n      <td>5.32804e-06</td>\n      <td>0.00462325</td>\n      <td>2.08049e-05</td>\n      <td>0.0116917</td>\n      <td>1.94736e-05</td>\n      <td>0.0101168</td>\n      <td>5.609e-06</td>\n      <td>0.00409973</td>\n      <td>0.0476042</td>\n    </tr>\n    <tr>\n      <th>1</th>\n      <td>오창</td>\n      <td>조립</td>\n      <td>Lamination</td>\n      <td>전공정 Loss</td>\n      <td>0.000542124</td>\n      <td>0.211953</td>\n      <td>0.00083324</td>\n      <td>0.359924</td>\n      <td>0.00131798</td>\n      <td>0.575818</td>\n      <td>0.00153434</td>\n      <td>0.59182</td>\n      <td>0.000340247</td>\n      <td>0.151624</td>\n      <td>0.000247458</td>\n      <td>0.127273</td>\n      <td>0.00109724</td>\n      <td>0.541852</td>\n      <td>2.56026</td>\n    </tr>\n    <tr>\n      <th>2</th>\n      <td>오창</td>\n      <td>조립</td>\n      <td>Stacking &amp; Folding</td>\n      <td>전공정 Loss</td>\n      <td>0.00021197</td>\n      <td>0.152065</td>\n      <td>0.000836421</td>\n      <td>0.284675</td>\n      <td>0.000271832</td>\n      <td>0.137687</td>\n      <td>0.00102157</td>\n      <td>0.748346</td>\n      <td>0.000975293</td>\n      <td>0.577938</td>\n      <td>0.00254303</td>\n      <td>1.55018</td>\n      <td>0.00366251</td>\n      <td>2.26774</td>\n      <td>5.71864</td>\n    </tr>\n    <tr>\n      <th>3</th>\n      <td>오창</td>\n      <td>조립</td>\n      <td>Packaging</td>\n      <td>전공정 Loss</td>\n      <td>0.000190334</td>\n      <td>0.0992647</td>\n      <td>0.000559755</td>\n      <td>0.390695</td>\n      <td>0.000563035</td>\n      <td>0.468659</td>\n      <td>0.000724782</td>\n      <td>0.576917</td>\n      <td>0.000813645</td>\n      <td>0.474201</td>\n      <td>0.00101575</td>\n      <td>0.78033</td>\n      <td>0.000850697</td>\n      <td>0.611403</td>\n      <td>3.40147</td>\n    </tr>\n    <tr>\n      <th>4</th>\n      <td>오창</td>\n      <td>조립</td>\n      <td>Lamination</td>\n      <td>쇼트 불량</td>\n      <td>0.00100503</td>\n      <td>0.594672</td>\n      <td>0.000890026</td>\n      <td>0.467159</td>\n      <td>0.000951394</td>\n      <td>0.531379</td>\n      <td>0.000825241</td>\n      <td>0.43944</td>\n      <td>0.000860724</td>\n      <td>0.465789</td>\n      <td>0.000706477</td>\n      <td>0.396216</td>\n      <td>0.000652539</td>\n      <td>0.356062</td>\n      <td>3.25072</td>\n    </tr>\n    <tr>\n      <th>...</th>\n      <td>...</td>\n      <td>...</td>\n      <td>...</td>\n      <td>...</td>\n      <td>...</td>\n      <td>...</td>\n      <td>...</td>\n      <td>...</td>\n      <td>...</td>\n      <td>...</td>\n      <td>...</td>\n      <td>...</td>\n      <td>...</td>\n      <td>...</td>\n      <td>...</td>\n      <td>...</td>\n      <td>...</td>\n      <td>...</td>\n      <td>...</td>\n    </tr>\n    <tr>\n      <th>145</th>\n      <td>ESNB</td>\n      <td>조립</td>\n      <td>Stacking &amp; Folding</td>\n      <td>연결 Loss</td>\n      <td>0.000343731</td>\n      <td>0.298295</td>\n      <td>0.000288144</td>\n      <td>0.280934</td>\n      <td>0.000227056</td>\n      <td>0.164485</td>\n      <td>0.000252956</td>\n      <td>0.227604</td>\n      <td>0.000221577</td>\n      <td>0.260083</td>\n      <td>0.000272291</td>\n      <td>0.265166</td>\n      <td>0.000189675</td>\n      <td>0.198434</td>\n      <td>1.695</td>\n    </tr>\n    <tr>\n      <th>146</th>\n      <td>ESNB</td>\n      <td>조립</td>\n      <td>Notching</td>\n      <td>기타 Loss</td>\n      <td>0.00330698</td>\n      <td>1.71921</td>\n      <td>0.00313649</td>\n      <td>1.62094</td>\n      <td>0.00343944</td>\n      <td>1.6283</td>\n      <td>0.00469243</td>\n      <td>2.90893</td>\n      <td>0.00418239</td>\n      <td>3.03021</td>\n      <td>0.00363964</td>\n      <td>2.51005</td>\n      <td>0.00396518</td>\n      <td>2.8303</td>\n      <td>16.2479</td>\n    </tr>\n    <tr>\n      <th>147</th>\n      <td>ESNB</td>\n      <td>조립</td>\n      <td>Lamination</td>\n      <td>기타 Loss</td>\n      <td>0.000559688</td>\n      <td>0.0588663</td>\n      <td>0.000553328</td>\n      <td>0.0942241</td>\n      <td>0.000549072</td>\n      <td>0.06053</td>\n      <td>0.000405887</td>\n      <td>0.0280078</td>\n      <td>0.000244811</td>\n      <td>0.0153851</td>\n      <td>0.000265417</td>\n      <td>0.0124977</td>\n      <td>0.000358622</td>\n      <td>0.0750536</td>\n      <td>0.344565</td>\n    </tr>\n    <tr>\n      <th>148</th>\n      <td>ESNB</td>\n      <td>조립</td>\n      <td>Stacking &amp; Folding</td>\n      <td>기타 Loss</td>\n      <td>0.000454514</td>\n      <td>-0.0738974</td>\n      <td>0.00340916</td>\n      <td>1.39591</td>\n      <td>0.00124337</td>\n      <td>0.396872</td>\n      <td>0.000437401</td>\n      <td>0.0966162</td>\n      <td>-3.2102e-05</td>\n      <td>-0.114944</td>\n      <td>6.73567e-05</td>\n      <td>-0.0355788</td>\n      <td>0.000168372</td>\n      <td>0.0760957</td>\n      <td>1.74107</td>\n    </tr>\n    <tr>\n      <th>149</th>\n      <td>ESNB</td>\n      <td>조립</td>\n      <td>Packaging</td>\n      <td>기타 Loss</td>\n      <td>0.000376195</td>\n      <td>-0.0192828</td>\n      <td>0.000385662</td>\n      <td>-0.018903</td>\n      <td>0.000310128</td>\n      <td>-0.0764545</td>\n      <td>-1.32938e-05</td>\n      <td>-0.0586706</td>\n      <td>-5.30342e-05</td>\n      <td>-0.0671512</td>\n      <td>-0.000152057</td>\n      <td>-0.172192</td>\n      <td>-0.000160181</td>\n      <td>-0.169754</td>\n      <td>-0.582408</td>\n    </tr>\n  </tbody>\n</table>\n<p>150 rows × 19 columns</p>\n</div>"
     },
     "execution_count": 91,
     "metadata": {},
     "output_type": "execute_result"
    }
   ],
   "source": [
    "data_electrode_column_name, data_assembly_column_name = [], []\n",
    "for i in range(1,13):\n",
    "    month = [str(i) + \"월\"] * 2\n",
    "    month[0] = month[0] + \"_%\" # 손실률 처리\n",
    "    month[1] = month[1] + \"_억(원)\" # 손실비용 처리\n",
    "\n",
    "    #[손실률, 손실비용]\n",
    "    data_electrode_column_name += month\n",
    "    data_assembly_column_name += month\n",
    "\n",
    "# 마지막 최종 합\n",
    "data_electrode_column_name += ['total_%', 'total_억(원)']\n",
    "data_assembly_column_name += ['total_%', 'total_억(원)']\n",
    "\n",
    "# 이름 변경\n",
    "\n",
    "data_electrode_column_list[2], data_assembly_column_list[2] = '세부공정', '세부공정'\n",
    "data_electrode_column_list[3], data_assembly_column_list[3] = '유형', '유형'\n",
    "data_electrode_column_list[4:], data_assembly_column_list[4:] = data_electrode_column_name, data_assembly_column_name\n",
    "\n",
    "# 칼럼 업데이트\n",
    "data_electrode_filtered.columns = data_electrode_column_list\n",
    "data_assembly_filtered.columns = data_assembly_column_list\n",
    "\n",
    "# 비어있는 월 제거\n",
    "data_electrode_filtered = data_electrode_filtered.dropna(axis= 1)\n",
    "data_assembly_filtered = data_assembly_filtered.dropna(axis= 1)\n",
    "\n",
    "\n",
    "\n",
    "\n",
    "\n",
    "del i, month\n",
    "del data_electrode_column_name, data_assembly_column_name\n",
    "del data_electrode_column_list, data_assembly_column_list\n",
    "data_assembly_filtered"
   ],
   "metadata": {
    "collapsed": false,
    "pycharm": {
     "name": "#%%\n"
    }
   }
  },
  {
   "cell_type": "code",
   "execution_count": 92,
   "outputs": [
    {
     "data": {
      "text/plain": "     site 전체공정                세부공정        유형    1월_억(원)    2월_억(원)  \\\n0      오창   조립            Notching  전공정 Loss          0  0.0158841   \n1      오창   조립          Lamination  전공정 Loss   0.211953   0.359924   \n2      오창   조립  Stacking & Folding  전공정 Loss   0.152065   0.284675   \n3      오창   조립           Packaging  전공정 Loss  0.0992647   0.390695   \n4      오창   조립          Lamination     쇼트 불량   0.594672   0.467159   \n..    ...  ...                 ...       ...        ...        ...   \n145  ESNB   조립  Stacking & Folding   연결 Loss   0.298295   0.280934   \n146  ESNB   조립            Notching   기타 Loss    1.71921    1.62094   \n147  ESNB   조립          Lamination   기타 Loss  0.0588663  0.0942241   \n148  ESNB   조립  Stacking & Folding   기타 Loss -0.0738974    1.39591   \n149  ESNB   조립           Packaging   기타 Loss -0.0192828  -0.018903   \n\n        3월_억(원)     4월_억(원)    5월_억(원)    6월_억(원)     7월_억(원)  \n0    0.00118855  0.00462325  0.0116917  0.0101168  0.00409973  \n1      0.575818     0.59182   0.151624   0.127273    0.541852  \n2      0.137687    0.748346   0.577938    1.55018     2.26774  \n3      0.468659    0.576917   0.474201    0.78033    0.611403  \n4      0.531379     0.43944   0.465789   0.396216    0.356062  \n..          ...         ...        ...        ...         ...  \n145    0.164485    0.227604   0.260083   0.265166    0.198434  \n146      1.6283     2.90893    3.03021    2.51005      2.8303  \n147     0.06053   0.0280078  0.0153851  0.0124977   0.0750536  \n148    0.396872   0.0966162  -0.114944 -0.0355788   0.0760957  \n149  -0.0764545  -0.0586706 -0.0671512  -0.172192   -0.169754  \n\n[150 rows x 11 columns]",
      "text/html": "<div>\n<style scoped>\n    .dataframe tbody tr th:only-of-type {\n        vertical-align: middle;\n    }\n\n    .dataframe tbody tr th {\n        vertical-align: top;\n    }\n\n    .dataframe thead th {\n        text-align: right;\n    }\n</style>\n<table border=\"1\" class=\"dataframe\">\n  <thead>\n    <tr style=\"text-align: right;\">\n      <th></th>\n      <th>site</th>\n      <th>전체공정</th>\n      <th>세부공정</th>\n      <th>유형</th>\n      <th>1월_억(원)</th>\n      <th>2월_억(원)</th>\n      <th>3월_억(원)</th>\n      <th>4월_억(원)</th>\n      <th>5월_억(원)</th>\n      <th>6월_억(원)</th>\n      <th>7월_억(원)</th>\n    </tr>\n  </thead>\n  <tbody>\n    <tr>\n      <th>0</th>\n      <td>오창</td>\n      <td>조립</td>\n      <td>Notching</td>\n      <td>전공정 Loss</td>\n      <td>0</td>\n      <td>0.0158841</td>\n      <td>0.00118855</td>\n      <td>0.00462325</td>\n      <td>0.0116917</td>\n      <td>0.0101168</td>\n      <td>0.00409973</td>\n    </tr>\n    <tr>\n      <th>1</th>\n      <td>오창</td>\n      <td>조립</td>\n      <td>Lamination</td>\n      <td>전공정 Loss</td>\n      <td>0.211953</td>\n      <td>0.359924</td>\n      <td>0.575818</td>\n      <td>0.59182</td>\n      <td>0.151624</td>\n      <td>0.127273</td>\n      <td>0.541852</td>\n    </tr>\n    <tr>\n      <th>2</th>\n      <td>오창</td>\n      <td>조립</td>\n      <td>Stacking &amp; Folding</td>\n      <td>전공정 Loss</td>\n      <td>0.152065</td>\n      <td>0.284675</td>\n      <td>0.137687</td>\n      <td>0.748346</td>\n      <td>0.577938</td>\n      <td>1.55018</td>\n      <td>2.26774</td>\n    </tr>\n    <tr>\n      <th>3</th>\n      <td>오창</td>\n      <td>조립</td>\n      <td>Packaging</td>\n      <td>전공정 Loss</td>\n      <td>0.0992647</td>\n      <td>0.390695</td>\n      <td>0.468659</td>\n      <td>0.576917</td>\n      <td>0.474201</td>\n      <td>0.78033</td>\n      <td>0.611403</td>\n    </tr>\n    <tr>\n      <th>4</th>\n      <td>오창</td>\n      <td>조립</td>\n      <td>Lamination</td>\n      <td>쇼트 불량</td>\n      <td>0.594672</td>\n      <td>0.467159</td>\n      <td>0.531379</td>\n      <td>0.43944</td>\n      <td>0.465789</td>\n      <td>0.396216</td>\n      <td>0.356062</td>\n    </tr>\n    <tr>\n      <th>...</th>\n      <td>...</td>\n      <td>...</td>\n      <td>...</td>\n      <td>...</td>\n      <td>...</td>\n      <td>...</td>\n      <td>...</td>\n      <td>...</td>\n      <td>...</td>\n      <td>...</td>\n      <td>...</td>\n    </tr>\n    <tr>\n      <th>145</th>\n      <td>ESNB</td>\n      <td>조립</td>\n      <td>Stacking &amp; Folding</td>\n      <td>연결 Loss</td>\n      <td>0.298295</td>\n      <td>0.280934</td>\n      <td>0.164485</td>\n      <td>0.227604</td>\n      <td>0.260083</td>\n      <td>0.265166</td>\n      <td>0.198434</td>\n    </tr>\n    <tr>\n      <th>146</th>\n      <td>ESNB</td>\n      <td>조립</td>\n      <td>Notching</td>\n      <td>기타 Loss</td>\n      <td>1.71921</td>\n      <td>1.62094</td>\n      <td>1.6283</td>\n      <td>2.90893</td>\n      <td>3.03021</td>\n      <td>2.51005</td>\n      <td>2.8303</td>\n    </tr>\n    <tr>\n      <th>147</th>\n      <td>ESNB</td>\n      <td>조립</td>\n      <td>Lamination</td>\n      <td>기타 Loss</td>\n      <td>0.0588663</td>\n      <td>0.0942241</td>\n      <td>0.06053</td>\n      <td>0.0280078</td>\n      <td>0.0153851</td>\n      <td>0.0124977</td>\n      <td>0.0750536</td>\n    </tr>\n    <tr>\n      <th>148</th>\n      <td>ESNB</td>\n      <td>조립</td>\n      <td>Stacking &amp; Folding</td>\n      <td>기타 Loss</td>\n      <td>-0.0738974</td>\n      <td>1.39591</td>\n      <td>0.396872</td>\n      <td>0.0966162</td>\n      <td>-0.114944</td>\n      <td>-0.0355788</td>\n      <td>0.0760957</td>\n    </tr>\n    <tr>\n      <th>149</th>\n      <td>ESNB</td>\n      <td>조립</td>\n      <td>Packaging</td>\n      <td>기타 Loss</td>\n      <td>-0.0192828</td>\n      <td>-0.018903</td>\n      <td>-0.0764545</td>\n      <td>-0.0586706</td>\n      <td>-0.0671512</td>\n      <td>-0.172192</td>\n      <td>-0.169754</td>\n    </tr>\n  </tbody>\n</table>\n<p>150 rows × 11 columns</p>\n</div>"
     },
     "execution_count": 92,
     "metadata": {},
     "output_type": "execute_result"
    }
   ],
   "source": [
    "index_for_reports = [0,1,2,3,5,7,9,11,13,15,17]\n",
    "\n",
    "data_electrode_filtered = data_electrode_filtered.iloc[:, [0,1,2,3,5,7,9,11,13,15,17]]\n",
    "data_assembly_filtered = data_assembly_filtered.iloc[:, [0,1,2,3,5,7,9,11,13,15,17]]\n",
    "\n",
    "data_assembly_filtered"
   ],
   "metadata": {
    "collapsed": false,
    "pycharm": {
     "name": "#%%\n"
    }
   }
  },
  {
   "cell_type": "markdown",
   "source": [
    "### 전극 / 조립 통합"
   ],
   "metadata": {
    "collapsed": false,
    "pycharm": {
     "name": "#%% md\n"
    }
   }
  },
  {
   "cell_type": "code",
   "execution_count": 93,
   "outputs": [
    {
     "name": "stderr",
     "output_type": "stream",
     "text": [
      "C:\\ProgramData\\Miniconda3\\envs\\py36\\lib\\site-packages\\ipykernel_launcher.py:12: SettingWithCopyWarning: \n",
      "A value is trying to be set on a copy of a slice from a DataFrame.\n",
      "Try using .loc[row_indexer,col_indexer] = value instead\n",
      "\n",
      "See the caveats in the documentation: https://pandas.pydata.org/pandas-docs/stable/user_guide/indexing.html#returning-a-view-versus-a-copy\n",
      "  if sys.path[0] == '':\n",
      "C:\\ProgramData\\Miniconda3\\envs\\py36\\lib\\site-packages\\ipykernel_launcher.py:13: SettingWithCopyWarning: \n",
      "A value is trying to be set on a copy of a slice from a DataFrame.\n",
      "Try using .loc[row_indexer,col_indexer] = value instead\n",
      "\n",
      "See the caveats in the documentation: https://pandas.pydata.org/pandas-docs/stable/user_guide/indexing.html#returning-a-view-versus-a-copy\n",
      "  del sys.path[0]\n"
     ]
    }
   ],
   "source": [
    "data_electrode_final = pd.DataFrame()\n",
    "data_assembly_final = pd.DataFrame()\n",
    "\n",
    "for i in range(4,11):\n",
    "    elec_data_tmp = data_electrode_filtered.iloc[:, [0, 1, 2, 3, i]]\n",
    "    assm_data_tmp = data_assembly_filtered.iloc[:, [0, 1, 2, 3, i]]\n",
    "    new_name = elec_data_tmp.columns.values.tolist()\n",
    "\n",
    "    new_name[4] = \"Cost\"\n",
    "    elec_data_tmp.columns = new_name\n",
    "    assm_data_tmp.columns = new_name\n",
    "    elec_data_tmp['month'] = str(i-3) + \"월\"\n",
    "    assm_data_tmp['month'] = str(i-3) + \"월\"\n",
    "\n",
    "    data_electrode_final = pd.concat([data_electrode_final, elec_data_tmp])\n",
    "    data_assembly_final = pd.concat([data_assembly_final, assm_data_tmp])\n",
    "\n",
    "data_electrode_final=data_electrode_final.reset_index()\n",
    "data_assembly_filtered=data_assembly_filtered.reset_index()\n",
    "data_final = pd.concat([data_assembly_final, data_electrode_final])\n",
    "\n",
    "\n",
    "data_final = data_final.drop('index',axis = 1)\n",
    "data_final.to_csv('output/조립전극.csv',index = False, encoding = 'UTF-8-sig')\n",
    "\n",
    "# del data_final, data_assembly_final, data_electrode_final\n",
    "# del data_electrode_filtered, data_assembly_filtered\n",
    "\n",
    "\n",
    "\n",
    "\n"
   ],
   "metadata": {
    "collapsed": false,
    "pycharm": {
     "name": "#%%\n"
    }
   }
  }
 ],
 "metadata": {
  "kernelspec": {
   "name": "lab_kernel",
   "language": "python",
   "display_name": "lab_kernel"
  },
  "language_info": {
   "codemirror_mode": {
    "name": "ipython",
    "version": 3
   },
   "file_extension": ".py",
   "mimetype": "text/x-python",
   "name": "python",
   "nbconvert_exporter": "python",
   "pygments_lexer": "ipython3",
   "version": "3.6.13"
  }
 },
 "nbformat": 4,
 "nbformat_minor": 5
}